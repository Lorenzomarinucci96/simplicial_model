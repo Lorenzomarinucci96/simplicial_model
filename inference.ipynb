{
 "cells": [
  {
   "cell_type": "code",
   "execution_count": 1,
   "metadata": {},
   "outputs": [],
   "source": [
    "import matplotlib.pyplot as plt\n",
    "import numpy as np\n",
    "import pandas as pd\n",
    "from library import *\n",
    "import cvxpy as cp"
   ]
  },
  {
   "cell_type": "code",
   "execution_count": 2,
   "metadata": {},
   "outputs": [],
   "source": [
    "def opt_lambda(Q):\n",
    "    \"\"\"\n",
    "    Risolve il problema:\n",
    "        minimize   s.T @ Q @ s - 2 * sum(log(s))\n",
    "        subject to s > 0\n",
    "\n",
    "    Args:\n",
    "        Q: matrice (n x n), simmetrica definita positiva\n",
    "\n",
    "    Returns:\n",
    "        s_opt: soluzione ottimale (numpy array)\n",
    "    \"\"\"\n",
    "    n = Q.shape[0]\n",
    "    s = cp.Variable(n, pos=True)  # impone s_i > 0\n",
    "\n",
    "    objective = cp.Minimize(cp.quad_form(s, Q) - 2 * cp.sum(cp.log(s)))\n",
    "    problem = cp.Problem(objective)\n",
    "\n",
    "    problem.solve()\n",
    "\n",
    "    if problem.status != cp.OPTIMAL:\n",
    "        raise RuntimeError(f\"Problema non risolto: {problem.status}\")\n",
    "\n",
    "    return s.value\n"
   ]
  },
  {
   "cell_type": "code",
   "execution_count": 3,
   "metadata": {},
   "outputs": [],
   "source": [
    "def opt_Theta(H, T, G, verbose=False):\n",
    "    \"\"\"\n",
    "    Risolve il problema:\n",
    "        min_X trace(X @ H) - logdet(X)\n",
    "        s.t. X PSD\n",
    "             X_{ij} = 0  where T_{ij} = 0 (sparsità)\n",
    "             (X - I)(G - I) = 0\n",
    "             \n",
    "    Args:\n",
    "        H: matrice simmetrica definita positiva (n x n)\n",
    "        T: matrice di maschera binaria (n x n), T[i,j] == 0 ⇒ X[i,j] == 0\n",
    "        G: matrice reale (n x n)\n",
    "        verbose: stampa output del solver\n",
    "        \n",
    "    Returns:\n",
    "        X_opt: soluzione ottima come array NumPy (n x n)\n",
    "    \"\"\"\n",
    "    n = H.shape[0]\n",
    "    I = np.eye(n)\n",
    "    mask = 1-T\n",
    "    \n",
    "    # Variabile simmetrica\n",
    "    X = cp.Variable((n, n), symmetric=True)\n",
    "\n",
    "    # Obiettivo: trace(XH) - logdet(X)\n",
    "    #penalty = cp.norm1(cp.multiply(mask, X)) # vincolo topologia\n",
    "    objective = cp.Minimize(cp.trace(X @ H) - cp.log_det(X))\n",
    "\n",
    "    constraints = []\n",
    "\n",
    "    # 1. Vincolo PSD\n",
    "    constraints.append(X >> 0)\n",
    "\n",
    "     #2. Sparsità da T\n",
    "    for i in range(n):\n",
    "        for j in range(n):\n",
    "           if T[i, j] == 0:\n",
    "                constraints.append(X[i, j] == 0)\n",
    "\n",
    "    # 3. (X - I)(G - I) = 0 ⇒ per ogni elemento (riga i, colonna j):\n",
    "    #     sum_k (X[i,k] - δ_ik)(G[k,j] - δ_kj) = 0\n",
    "    G_shift = G - I\n",
    "    for i in range(n):\n",
    "        for j in range(n):\n",
    "            expr = sum((X[i, k] - (1.0 if i == k else 0.0)) * G_shift[k, j] for k in range(n))\n",
    "            constraints.append(expr == 0)\n",
    "\n",
    "    # Risoluzione\n",
    "    prob = cp.Problem(objective, constraints)\n",
    "    prob.solve(solver=cp.SCS, verbose=verbose)\n",
    "\n",
    "    return X.value\n"
   ]
  },
  {
   "cell_type": "code",
   "execution_count": 4,
   "metadata": {},
   "outputs": [],
   "source": [
    "def same_sparsity_structure(A, B, threshold=1e-10):\n",
    "    # Azzeramento sotto soglia\n",
    "    A_clean = A.copy()\n",
    "    A_clean[np.abs(A_clean) < threshold] = 0.0\n",
    "\n",
    "    B_clean = B.copy()\n",
    "    B_clean[np.abs(B_clean) < threshold] = 0.0\n",
    "\n",
    "    # Maschere di elementi non nulli\n",
    "    mask_A = A_clean != 0.0\n",
    "    mask_B = B_clean != 0.0\n",
    "\n",
    "    # Confronto posizione per posizione\n",
    "    same_structure = np.array_equal(mask_A, mask_B)\n",
    "\n",
    "    return same_structure, mask_A, mask_B"
   ]
  },
  {
   "cell_type": "code",
   "execution_count": 5,
   "metadata": {},
   "outputs": [],
   "source": [
    "max_dimension = 2 # Dimension of the complex, e.g. 2 -> nodes, egdes, triangles\n",
    "p_complex = [.3,.6]\n",
    "max_num_simplices = 60 # Maximum number of simplices\n",
    "min_num_simplices = 20 # Minimum number of simplices\n",
    "avg_nodes = 10\n",
    "variance_complex = 2"
   ]
  },
  {
   "cell_type": "code",
   "execution_count": 6,
   "metadata": {},
   "outputs": [
    {
     "name": "stdout",
     "output_type": "stream",
     "text": [
      "Complex correctly saved on the current path, veryfing if valid...\n",
      "Valid complex generated/loaded!\n"
     ]
    }
   ],
   "source": [
    "valid_data_point = 0\n",
    "valid_complex = 0\n",
    "while not valid_complex:\n",
    "      _, incidence_mats, num_simplices = generate_simplicial_complex(avg_nodes, max_dimension, p_complex, variance_complex)\n",
    "      if num_simplices < max_num_simplices and num_simplices >= min_num_simplices:\n",
    "        valid_complex = 1\n",
    "        print(\"Valid complex generated/loaded!\")\n",
    "      else:\n",
    "       print(\"The generated complex does not respect the imposed constraints... Trying again!\")"
   ]
  },
  {
   "cell_type": "code",
   "execution_count": 7,
   "metadata": {},
   "outputs": [
    {
     "data": {
      "text/plain": [
       "(13, 27)"
      ]
     },
     "execution_count": 7,
     "metadata": {},
     "output_type": "execute_result"
    }
   ],
   "source": [
    "B1=incidence_mats[1]\n",
    "B1.shape"
   ]
  },
  {
   "cell_type": "code",
   "execution_count": 8,
   "metadata": {},
   "outputs": [
    {
     "data": {
      "text/plain": [
       "(27, 9)"
      ]
     },
     "execution_count": 8,
     "metadata": {},
     "output_type": "execute_result"
    }
   ],
   "source": [
    "B2=incidence_mats[2]\n",
    "B2.shape"
   ]
  },
  {
   "cell_type": "code",
   "execution_count": 170,
   "metadata": {},
   "outputs": [],
   "source": [
    "n_nodes=B1.shape[0]\n",
    "n_edges=B1.shape[1]\n",
    "n_triangles=B2.shape[1]"
   ]
  },
  {
   "cell_type": "code",
   "execution_count": 171,
   "metadata": {},
   "outputs": [],
   "source": [
    "D_V=5*np.eye(n_nodes)\n",
    "D_E=6*np.eye(n_edges)\n",
    "D_T=5*np.eye(n_triangles)"
   ]
  },
  {
   "cell_type": "code",
   "execution_count": 172,
   "metadata": {},
   "outputs": [
    {
     "data": {
      "text/plain": [
       "True"
      ]
     },
     "execution_count": 172,
     "metadata": {},
     "output_type": "execute_result"
    }
   ],
   "source": [
    "row1 = np.hstack([D_V, -B1, np.zeros((n_nodes,n_triangles))])\n",
    "# Seconda e terza riga di blocchi (definizione generica, possono variare)\n",
    "row2 = np.hstack([-B1.T, D_E, -B2])\n",
    "row3 = np.hstack([np.zeros((n_triangles,n_nodes)), -B2.T, D_T])\n",
    "prec_matrix = np.vstack([row1, row2, row3])\n",
    "eigvals = np.linalg.eigvalsh(prec_matrix)  # Calcola gli autovalori (più efficiente per matrici simmetriche)\n",
    "check=np.all(eigvals > 0)\n",
    "check"
   ]
  },
  {
   "cell_type": "code",
   "execution_count": 173,
   "metadata": {},
   "outputs": [
    {
     "data": {
      "text/plain": [
       "True"
      ]
     },
     "execution_count": 173,
     "metadata": {},
     "output_type": "execute_result"
    }
   ],
   "source": [
    "row1 = np.hstack([D_V, -B1])\n",
    "row2 = np.hstack([-B1.T, D_E])\n",
    "mat = np.vstack([row1, row2])\n",
    "cov_E_d = np.linalg.inv(mat)[n_nodes:,n_nodes:]\n",
    "prec_E_d = np.linalg.inv(cov_E_d)\n",
    "prec_E_d[np.abs(prec_E_d) < 1e-10] = 0.0\n",
    "sparsity,Md,M2=same_sparsity_structure(B1.T @ B1 + np.eye(n_edges), prec_E_d)\n",
    "sparsity #lower interactions \n"
   ]
  },
  {
   "cell_type": "code",
   "execution_count": 174,
   "metadata": {},
   "outputs": [
    {
     "data": {
      "text/plain": [
       "True"
      ]
     },
     "execution_count": 174,
     "metadata": {},
     "output_type": "execute_result"
    }
   ],
   "source": [
    "row1 = np.hstack([D_E, -B2])\n",
    "row2 = np.hstack([-B2.T, D_T])\n",
    "mat = np.vstack([row1, row2])\n",
    "cov_E_u = np.linalg.inv(mat)[:n_edges,:n_edges]\n",
    "prec_E_u = np.linalg.inv(cov_E_u)\n",
    "sparsity,Mu,M2=same_sparsity_structure(B2 @ B2.T + np.eye(n_edges), prec_E_u)\n",
    "prec_E_u[np.abs(prec_E_u) < 1e-10] = 0.0\n",
    "sparsity #upper interactions"
   ]
  },
  {
   "cell_type": "code",
   "execution_count": 175,
   "metadata": {},
   "outputs": [],
   "source": [
    "cov=np.linalg.inv(prec_matrix)\n",
    "cov[:n_nodes,-n_triangles:] = np.zeros((n_nodes,n_triangles)) #check condizione indipendenza\n",
    "cov[-n_triangles:,:n_nodes] = np.zeros((n_triangles,n_nodes))\n",
    "mu=np.zeros(cov.shape[0])\n",
    "iterations=50000\n",
    "X = np.random.multivariate_normal(mu, cov, size=iterations)"
   ]
  },
  {
   "cell_type": "code",
   "execution_count": 176,
   "metadata": {},
   "outputs": [
    {
     "data": {
      "text/plain": [
       "(50000, 26)"
      ]
     },
     "execution_count": 176,
     "metadata": {},
     "output_type": "execute_result"
    }
   ],
   "source": [
    "X_E=X[:,n_nodes:n_nodes+n_edges]\n",
    "X_E.shape #osservazioni sugli archi"
   ]
  },
  {
   "cell_type": "code",
   "execution_count": 177,
   "metadata": {},
   "outputs": [],
   "source": [
    "cov_E=cov[n_nodes:n_nodes+n_edges,n_nodes:n_nodes+n_edges]\n",
    "prec_E=np.linalg.inv(cov_E)\n",
    "prec_E[np.abs(prec_E) < 1e-10] = 0.0\n"
   ]
  },
  {
   "cell_type": "code",
   "execution_count": 178,
   "metadata": {},
   "outputs": [
    {
     "data": {
      "text/plain": [
       "6.046448788199071e-15"
      ]
     },
     "execution_count": 178,
     "metadata": {},
     "output_type": "execute_result"
    }
   ],
   "source": [
    "np.linalg.norm(prec_E-prec_E_d-prec_E_u+D_E) # altro check"
   ]
  },
  {
   "cell_type": "code",
   "execution_count": 179,
   "metadata": {},
   "outputs": [
    {
     "data": {
      "text/plain": [
       "0.021955640709850153"
      ]
     },
     "execution_count": 179,
     "metadata": {},
     "output_type": "execute_result"
    }
   ],
   "source": [
    "S = (1/iterations)*X_E.T @ X_E #cov empirica\n",
    "np.linalg.norm(S-cov_E)"
   ]
  },
  {
   "cell_type": "code",
   "execution_count": 180,
   "metadata": {},
   "outputs": [
    {
     "data": {
      "text/plain": [
       "0.6308398330921222"
      ]
     },
     "execution_count": 180,
     "metadata": {},
     "output_type": "execute_result"
    }
   ],
   "source": [
    "np.linalg.norm(np.linalg.inv(S)-prec_E)"
   ]
  },
  {
   "cell_type": "code",
   "execution_count": null,
   "metadata": {},
   "outputs": [],
   "source": [
    "class Inference:\n",
    "    def __init__(\n",
    "            self,\n",
    "            S, \n",
    "            MAX_ITER,\n",
    "            inc_mats\n",
    "    ):\n",
    "        self.S = S\n",
    "        self.MAX_ITER = MAX_ITER\n",
    "        self.B1 = inc_mats[1]\n",
    "        self.B2 = inc_mats[2]\n",
    "\n",
    "        self.n_edges = S.shape[0]\n",
    "\n",
    "        self.mask_d = (self.B1.T @ self.B1 != 0.0).astype(int)\n",
    "        self.mask_u = (self.B2 @ self.B2.T != 0.0).astype(int)\n",
    "\n",
    "        for i in range(self.n_edges):\n",
    "            self.mask_d[i,i] = 1\n",
    "            self.mask_u[i,i] = 1 \n",
    "    \n",
    "        # Build problems (they will be compiled at first solving)\n",
    "        self._opt_lambda_build()\n",
    "        self._opt_Theta_build()\n",
    "\n",
    "\n",
    "    def _initialization(\n",
    "            self\n",
    "    ):\n",
    "        '''\n",
    "        Initialize the variables in the optimization problem\n",
    "        '''\n",
    "\n",
    "        l = np.sqrt(np.diag(self.S))\n",
    "        Theta_u = np.eye(self.n_edges)\n",
    "        Theta_d = np.eye(self.n_edges)\n",
    "\n",
    "        return l, Theta_d, Theta_u\n",
    "\n",
    "    #---------------------------#\n",
    "    #       LAMBDA STEP\n",
    "    #---------------------------#\n",
    "\n",
    "    def _opt_lambda_build(\n",
    "            self\n",
    "    ):\n",
    "        \"\"\"\n",
    "        Costruisce il problema:\n",
    "            minimize   s.T @ Q @ s - 2 * sum(log(s))\n",
    "            subject to s > 0\n",
    "        \"\"\"\n",
    "        self.Q_param = cp.Parameter((self.n_edges, self.n_edges))\n",
    "        self.s = cp.Variable(self.n_edges, pos=True)  # impone s_i > 0\n",
    "\n",
    "        objective = cp.Minimize(cp.quad_form(s, Q) - 2 * cp.sum(cp.log(s)))\n",
    "        self.problem_lambda = cp.Problem(objective)\n",
    "    \n",
    "    def _opt_lambda_solve(\n",
    "            self,\n",
    "            Q_value,\n",
    "            solver = cp.MOSEK,\n",
    "            verbosity = 0,\n",
    "    ):\n",
    "        self.Q_param.value = Q_value\n",
    "        self.problem_lambda.solve(solver = solver, verbosity = verbosity) \n",
    "\n",
    "        return self.s.value \n",
    "    \n",
    "    #---------------------------#\n",
    "    #        THETA STEP\n",
    "    #---------------------------#\n",
    "\n",
    "    def _opt_Theta_build(\n",
    "            self,\n",
    "    ):\n",
    "        \"\"\"\n",
    "        Costruisce il problema:\n",
    "            min_X trace(X @ H) - logdet(X)\n",
    "            s.t. X PSD\n",
    "                X_{ij} = 0  where T_{ij} = 0 (sparsità)\n",
    "                (X - I)(G - I) = 0\n",
    "        \"\"\"\n",
    "\n",
    "        self.H_param = cp.Parameter((self.n_edges, self.n_edges))\n",
    "        self.T_param = cp.Parameter((self.n_edges, self.n_edges))\n",
    "        self.G_param = cp.Parameter((self.n_edges, self.n_edges))\n",
    "\n",
    "\n",
    "        # Variabile simmetrica\n",
    "        self.X = cp.Variable((self.n_edges, self.n_edges), symmetric=True)\n",
    "\n",
    "        # Obiettivo: trace(XH) - logdet(X)\n",
    "        #penalty = cp.norm1(cp.multiply(mask, X)) # vincolo topologia\n",
    "        objective = (\n",
    "            cp.Minimize(cp.trace(self.X @ self.H_param) - \n",
    "                        cp.log_det(X))\n",
    "        )\n",
    "\n",
    "        constraints = []\n",
    "\n",
    "        # 1. Vincolo PSD\n",
    "        constraints.append(X >> 0)\n",
    "\n",
    "        #2. Sparsità da T\n",
    "        for i in range(self.n_edges):\n",
    "            for j in range(self.n_edges):\n",
    "                if self.T_param[i, j] == 0:\n",
    "                        constraints.append(X[i, j] == 0)\n",
    "\n",
    "        # 3. (X - I)(G - I) = 0 ⇒ per ogni elemento (riga i, colonna j):\n",
    "        #     sum_k (X[i,k] - δ_ik)(G[k,j] - δ_kj) = 0\n",
    "        G_shift = self.Q_param - cp.eye(self.n_edges)\n",
    "        for i in range(self.n_edges):\n",
    "            for j in range(self.n_edges):\n",
    "                expr = sum((X[i, k] - (1.0 if i == k else 0.0)) * G_shift[k, j] for k in range(self.n_edges))\n",
    "                constraints.append(expr == 0)\n",
    "\n",
    "        self.problem_theta = cp.Problem(objective, constraints)\n",
    "\n",
    "    def _opt_Theta_solve(\n",
    "            self,\n",
    "            H_value,\n",
    "            T_value,\n",
    "            G_value,\n",
    "            solver = cp.MOSEK,\n",
    "            verbosity = 0\n",
    "    ):    \n",
    "        self.H_param.value = H_value\n",
    "        self.T_param.value = T_value\n",
    "        self.G_param.value = G_value\n",
    "\n",
    "        self.problem_theta.solve(solver = solver, verbosity = verbosity) \n",
    "\n",
    "        return self.X.value \n",
    "    \n",
    "    #----------------------------------------------------------#\n",
    "    #        TWO-STEPS ALTERNATED OPTIMIZATION PIPELINE\n",
    "    #----------------------------------------------------------#\n",
    "\n",
    "    def _fit(\n",
    "            self\n",
    "    ):\n",
    "        # Initialization\n",
    "        l, Theta_d, Theta_u = self._initialization()\n",
    "\n",
    "        for _ in range(self.MAX_ITER):\n",
    "            Q = (Theta_d + Theta_u - np.eye(n_edges)) * S\n",
    "            l = np.copy(self._opt_lambda_solve(Q))\n",
    "            H = np.diah(l) @ S @ np.diag(l)\n",
    "\n",
    "            Theta_d = np.copy(self._opt_Theta_solve(H, self.mask_d, Theta_u))\n",
    "            Theta_u = np.copy(self._opt_Theta_solve(H, self.mask_u, Theta_d))\n",
    "\n",
    "        return Theta_d, Theta_u, l "
   ]
  },
  {
   "cell_type": "code",
   "execution_count": 235,
   "metadata": {},
   "outputs": [],
   "source": [
    "def inference(S, incidence_mats, it=100):\n",
    "\n",
    "    B1 = incidence_mats[1]\n",
    "    B2 = incidence_mats[2]\n",
    "    n_edges = S.shape[0]\n",
    "    mask_d = (B1.T @ B1 != 0.0).astype(int)\n",
    "    mask_u = (B2 @ B2.T != 0.0).astype(int)\n",
    "    for i in range(n_edges):\n",
    "       mask_d[i,i] = 1\n",
    "       mask_u[i,i] = 1 \n",
    "\n",
    "    ## Inizializzazione\n",
    "    l = np.sqrt(np.diag(S))\n",
    "    Theta_u = np.eye(n_edges)\n",
    "    #Theta_u[mask_u.astype(bool) & (~np.eye(n_edges, dtype=bool))] = eps\n",
    "    Theta_d = np.eye(n_edges)\n",
    "    \n",
    "    #algoritmo alterato\n",
    "    for i in range(it):\n",
    "        Q = (Theta_d + Theta_u - np.eye(n_edges)) * S\n",
    "        l = opt_lambda(Q) #ottimizza l\n",
    "        H = np.diag(l)@S@np.diag(l)  \n",
    "        Theta_d = opt_Theta(H, mask_d, Theta_u) #ottimizza Theta_d\n",
    "        Theta_u = opt_Theta(H, mask_u, Theta_d) #ottimizza Theta_u\n",
    "        l = opt_lambda(Q) #ottimizza l\n",
    "        print(\"Iteration: \"+str(i+1)+\"/100\")\n",
    "        clear_output(wait=True)\n",
    "    return Theta_d,Theta_u,l"
   ]
  },
  {
   "cell_type": "code",
   "execution_count": 241,
   "metadata": {},
   "outputs": [
    {
     "name": "stdout",
     "output_type": "stream",
     "text": [
      "Iteration: 100/100\n"
     ]
    }
   ],
   "source": [
    "Theta_d,Theta_u,l=inference(S, incidence_mats, it=100)"
   ]
  },
  {
   "cell_type": "code",
   "execution_count": 243,
   "metadata": {},
   "outputs": [
    {
     "data": {
      "text/plain": [
       "array([2.22220976, 2.2856553 , 2.2714539 , 2.35802515, 2.29126236,\n",
       "       2.29880009, 2.26474273, 2.33311151, 2.31134242, 2.22865006,\n",
       "       2.31769301, 2.3051263 , 2.3039776 , 2.27700471, 2.31954482,\n",
       "       2.31411953, 2.32368972, 2.35468169, 2.36649741, 2.3576663 ,\n",
       "       2.35639003, 2.34859223, 2.36553266, 2.34849524, 2.36804459,\n",
       "       2.27283094])"
      ]
     },
     "execution_count": 243,
     "metadata": {},
     "output_type": "execute_result"
    }
   ],
   "source": [
    "l"
   ]
  },
  {
   "cell_type": "code",
   "execution_count": 242,
   "metadata": {},
   "outputs": [
    {
     "data": {
      "text/plain": [
       "array([[ 1.00616208e+00, -3.57090239e-02, -2.39781127e-03,\n",
       "        -3.64955651e-02, -7.48435458e-04,  3.59727907e-03,\n",
       "         3.17520466e-02, -3.47305065e-04,  3.87760575e-02,\n",
       "         1.24638302e-03,  3.73083487e-02, -6.96242915e-03,\n",
       "        -2.62420410e-09,  2.12723708e-09,  2.64923938e-09,\n",
       "        -9.78622076e-09,  2.18030919e-09,  7.57897348e-09,\n",
       "         1.24733495e-08, -1.05558512e-08, -4.03699742e-09,\n",
       "        -9.31802239e-09, -5.43289238e-09, -1.20265391e-08,\n",
       "        -2.07321040e-08,  2.02056941e-09],\n",
       "       [-3.57090239e-02,  1.00363592e+00,  4.35014388e-03,\n",
       "        -3.79912139e-02,  4.19227704e-04, -3.62629105e-02,\n",
       "         9.62579941e-10,  1.04172977e-08,  8.71072771e-09,\n",
       "         3.86524607e-09,  6.39203074e-09,  6.59961972e-09,\n",
       "         1.56783551e-08,  6.74800014e-09,  1.22539338e-08,\n",
       "        -3.24464537e-04,  3.61687622e-03, -1.22504472e-08,\n",
       "        -1.02158275e-08,  1.30964218e-08,  2.49175046e-08,\n",
       "         1.28818782e-08,  1.79045650e-08,  8.15481216e-09,\n",
       "        -2.24307532e-09,  3.56406877e-09],\n",
       "       [-2.39781127e-03,  4.35014388e-03,  1.00616602e+00,\n",
       "        -3.68440712e-02, -3.34748377e-02, -3.12614719e-02,\n",
       "         1.47791965e-08, -5.11808186e-03,  3.19989414e-08,\n",
       "         1.72364382e-08,  2.38585493e-08,  3.29704144e-08,\n",
       "         1.76040911e-08,  1.18239846e-08,  2.36217722e-08,\n",
       "        -2.51567286e-03,  1.24596775e-08,  4.04240251e-02,\n",
       "         3.51652615e-02,  3.02750015e-08,  3.49787881e-08,\n",
       "         4.08423057e-08,  3.32951200e-08,  3.53622234e-08,\n",
       "         2.81145073e-08, -3.11913129e-09],\n",
       "       [-3.64955651e-02, -3.79912139e-02, -3.68440712e-02,\n",
       "         1.01415735e+00, -3.02457582e-02, -3.83629888e-02,\n",
       "         1.22291957e-08,  3.92105078e-08, -3.43029911e-02,\n",
       "         2.18617208e-08,  2.93732792e-08,  3.69739437e-08,\n",
       "        -3.87549638e-02,  1.40015948e-08,  2.70051600e-08,\n",
       "         2.37708278e-08,  5.60348536e-09, -3.08021254e-08,\n",
       "        -3.98594196e-08, -3.50160296e-02,  4.74674437e-08,\n",
       "         4.14088339e-08,  4.71378993e-08, -3.98259606e-02,\n",
       "         2.80475799e-08,  3.58139156e-02],\n",
       "       [-7.48435458e-04,  4.19227704e-04, -3.34748377e-02,\n",
       "        -3.02457582e-02,  1.00765225e+00, -4.24326171e-02,\n",
       "         1.17454620e-08,  2.46135914e-08,  3.23000186e-08,\n",
       "         1.56969024e-03,  2.08990753e-08,  2.92944655e-08,\n",
       "         1.65908599e-08, -3.72079340e-02,  2.16264679e-08,\n",
       "         1.70879152e-08, -1.02198845e-03, -1.01367921e-08,\n",
       "        -1.88261835e-08,  1.53964463e-08, -3.15153144e-02,\n",
       "         2.40953306e-08,  2.30978014e-08,  2.89705812e-08,\n",
       "         2.32795813e-08, -3.73790918e-02],\n",
       "       [ 3.59727907e-03, -3.62629105e-02, -3.12614719e-02,\n",
       "        -3.83629888e-02, -4.24326171e-02,  1.00690657e+00,\n",
       "         6.99961303e-09,  2.81037138e-08,  3.19831603e-08,\n",
       "         1.45310352e-08,  2.26066585e-08, -6.29529679e-03,\n",
       "         2.49373222e-08,  1.26924195e-08,  2.21716480e-08,\n",
       "         2.06089937e-08,  1.33447041e-08, -1.75073669e-08,\n",
       "        -2.75427808e-08,  2.31813003e-08,  3.43366999e-08,\n",
       "         2.43143571e-08, -3.44552230e-02,  3.41290312e-08,\n",
       "         2.05754312e-08,  7.38488733e-09],\n",
       "       [ 3.17520466e-02,  9.62579941e-10,  1.47791965e-08,\n",
       "         1.22291957e-08,  1.17454620e-08,  6.99961303e-09,\n",
       "         1.00752083e+00, -4.13266893e-02, -4.22165779e-02,\n",
       "        -2.93375201e-03,  4.03126687e-03, -4.14865595e-02,\n",
       "         3.69067167e-02, -3.57158172e-04,  2.56486538e-03,\n",
       "         2.33832421e-08, -1.05306268e-09, -2.10698622e-08,\n",
       "        -3.22999741e-08,  2.56093895e-08,  2.06217769e-08,\n",
       "         2.55716135e-08,  1.68617611e-08,  2.46988681e-08,\n",
       "         1.99762762e-08, -1.24448164e-08],\n",
       "       [-3.47305065e-04,  1.04172977e-08, -5.11808186e-03,\n",
       "         3.92105078e-08,  2.46135914e-08,  2.81037138e-08,\n",
       "        -4.13266893e-02,  1.01223469e+00, -3.74401047e-02,\n",
       "        -3.88386324e-02, -3.86967911e-02, -3.66808050e-02,\n",
       "         2.99484302e-08,  1.24081209e-08,  2.20290428e-08,\n",
       "        -3.40291106e-02,  1.04959862e-08,  3.61401175e-02,\n",
       "         3.72711099e-02,  5.55236107e-08,  4.41427260e-08,\n",
       "         5.58823827e-08,  4.32865194e-08,  5.04649794e-08,\n",
       "         4.12934156e-08, -1.86097204e-08],\n",
       "       [ 3.87760575e-02,  8.71072771e-09,  3.19989414e-08,\n",
       "        -3.43029911e-02,  3.23000186e-08,  3.19831603e-08,\n",
       "        -4.22165779e-02, -3.74401047e-02,  1.01239765e+00,\n",
       "        -4.35918483e-03, -3.42231197e-02, -3.80718298e-02,\n",
       "        -3.22504818e-02,  1.36851646e-08,  1.73116041e-08,\n",
       "         3.44548499e-08,  3.20230166e-09, -4.03359075e-08,\n",
       "        -5.10612975e-08, -3.37794010e-02,  5.06863621e-08,\n",
       "         4.72783754e-08,  4.87856159e-08, -2.90497280e-02,\n",
       "         4.29676349e-08,  1.66200338e-03],\n",
       "       [ 1.24638302e-03,  3.86524607e-09,  1.72364382e-08,\n",
       "         2.18617208e-08,  1.56969024e-03,  1.45310352e-08,\n",
       "        -2.93375201e-03, -3.88386324e-02, -4.35918483e-03,\n",
       "         1.00726741e+00, -3.15388479e-02, -4.52994249e-02,\n",
       "         2.16017661e-08,  7.32837146e-03,  1.87434362e-08,\n",
       "         1.86574386e-08, -3.56095822e-02, -3.83221703e-08,\n",
       "        -3.19734620e-08,  3.78840322e-08, -3.47320851e-02,\n",
       "         4.64152166e-08,  2.77159218e-08,  3.48010505e-08,\n",
       "         3.29932202e-08, -8.15811198e-03],\n",
       "       [ 3.73083487e-02,  6.39203074e-09,  2.38585493e-08,\n",
       "         2.93732792e-08,  2.08990753e-08,  2.26066585e-08,\n",
       "         4.03126687e-03, -3.86967911e-02, -3.42231197e-02,\n",
       "        -3.15388479e-02,  1.00899329e+00, -3.39875138e-02,\n",
       "         2.76783545e-08,  1.14792547e-08,  4.02267689e-03,\n",
       "         2.07550278e-08,  9.36049020e-09, -3.07166826e-08,\n",
       "        -3.15938847e-08,  4.28783561e-08,  3.39011210e-08,\n",
       "        -3.48681244e-02,  2.98884045e-08,  4.14410871e-08,\n",
       "        -3.38407812e-02, -1.06739987e-08],\n",
       "       [-6.96242915e-03,  6.59961972e-09,  3.29704144e-08,\n",
       "         3.69739437e-08,  2.92944655e-08, -6.29529679e-03,\n",
       "        -4.14865595e-02, -3.66808050e-02, -3.80718298e-02,\n",
       "        -4.52994249e-02, -3.39875138e-02,  1.00868403e+00,\n",
       "         2.66106578e-08,  1.33156565e-08,  1.60692907e-08,\n",
       "         3.19300002e-08,  7.74454471e-09, -4.17774624e-08,\n",
       "        -4.51984213e-08,  4.59377823e-08,  3.78904909e-08,\n",
       "         4.18812142e-08, -2.59929949e-02,  4.63462998e-08,\n",
       "         3.28686950e-08, -1.12369318e-08],\n",
       "       [-2.62420410e-09,  1.56783551e-08,  1.76040911e-08,\n",
       "        -3.87549638e-02,  1.65908599e-08,  2.49373222e-08,\n",
       "         3.69067167e-02,  2.99484302e-08, -3.22504818e-02,\n",
       "         2.16017661e-08,  2.76783545e-08,  2.66106578e-08,\n",
       "         1.00795168e+00,  2.15610641e-04, -4.52824586e-02,\n",
       "         9.30693224e-09,  1.15966434e-10, -2.58420690e-08,\n",
       "        -2.27693560e-08, -3.32302903e-02,  3.35177065e-08,\n",
       "         3.13158230e-08,  4.30008907e-08, -3.25305145e-02,\n",
       "         2.90854948e-08,  3.57635570e-03],\n",
       "       [ 2.12723708e-09,  6.74800014e-09,  1.18239846e-08,\n",
       "         1.40015948e-08, -3.72079340e-02,  1.26924195e-08,\n",
       "        -3.57158172e-04,  1.24081209e-08,  1.36851646e-08,\n",
       "         7.32837146e-03,  1.14792547e-08,  1.33156565e-08,\n",
       "         2.15610641e-04,  1.00467887e+00, -3.44709047e-02,\n",
       "         5.86794264e-09, -3.75911391e-02, -8.71948783e-09,\n",
       "        -7.63249256e-09,  5.53297522e-09, -3.32397447e-02,\n",
       "         1.85589973e-08,  1.87344985e-08,  1.30959842e-08,\n",
       "         2.06710063e-08, -1.85720108e-03],\n",
       "       [ 2.64923938e-09,  1.22539338e-08,  2.36217722e-08,\n",
       "         2.70051600e-08,  2.16264679e-08,  2.21716480e-08,\n",
       "         2.56486538e-03,  2.20290428e-08,  1.73116041e-08,\n",
       "         1.87434362e-08,  4.02267689e-03,  1.60692907e-08,\n",
       "        -4.52824586e-02, -3.44709047e-02,  1.00602093e+00,\n",
       "         7.32234618e-09,  8.41374970e-09, -1.57936919e-08,\n",
       "        -1.35679290e-08,  1.32158432e-08,  2.17023772e-08,\n",
       "        -3.92861589e-02,  2.55928573e-08,  2.11420591e-08,\n",
       "        -3.68677596e-02, -1.05238886e-09],\n",
       "       [-9.78622076e-09, -3.24464537e-04, -2.51567286e-03,\n",
       "         2.37708278e-08,  1.70879152e-08,  2.06089937e-08,\n",
       "         2.33832421e-08, -3.40291106e-02,  3.44548499e-08,\n",
       "         1.86574386e-08,  2.07550278e-08,  3.19300002e-08,\n",
       "         9.30693224e-09,  5.86794264e-09,  7.32234618e-09,\n",
       "         1.00439828e+00, -3.72660586e-02,  2.89477514e-02,\n",
       "         3.19675789e-02,  2.44272679e-08,  1.62680549e-08,\n",
       "         2.34976788e-08,  2.07967109e-08,  2.07716777e-08,\n",
       "         2.14373610e-08, -7.96266895e-09],\n",
       "       [ 2.18030919e-09,  3.61687622e-03,  1.24596775e-08,\n",
       "         5.60348536e-09, -1.02198845e-03,  1.33447041e-08,\n",
       "        -1.05306268e-09,  1.04959862e-08,  3.20230166e-09,\n",
       "        -3.56095822e-02,  9.36049020e-09,  7.74454471e-09,\n",
       "         1.15966434e-10, -3.75911391e-02,  8.41374970e-09,\n",
       "        -3.72660586e-02,  1.00725939e+00, -2.07832127e-08,\n",
       "        -1.24625201e-08,  8.14818820e-09, -3.78952203e-02,\n",
       "         2.43597336e-08,  1.90276753e-08,  6.59775483e-09,\n",
       "         2.23621838e-08, -4.10933746e-02],\n",
       "       [ 7.57897348e-09, -1.22504472e-08,  4.04240251e-02,\n",
       "        -3.08021254e-08, -1.01367921e-08, -1.75073669e-08,\n",
       "        -2.10698622e-08,  3.61401175e-02, -4.03359075e-08,\n",
       "        -3.83221703e-08, -3.07166826e-08, -4.17774624e-08,\n",
       "        -2.58420690e-08, -8.71948783e-09, -1.57936919e-08,\n",
       "         2.89477514e-02, -2.07832127e-08,  1.01100257e+00,\n",
       "        -3.37082525e-02,  3.61756423e-02,  3.73253491e-02,\n",
       "         3.08488433e-02,  4.49411001e-02, -5.57680052e-08,\n",
       "        -4.09383232e-08,  1.13333307e-08],\n",
       "       [ 1.24733495e-08, -1.02158275e-08,  3.51652615e-02,\n",
       "        -3.98594196e-08, -1.88261835e-08, -2.75427808e-08,\n",
       "        -3.22999741e-08,  3.72711099e-02, -5.10612975e-08,\n",
       "        -3.19734620e-08, -3.15938847e-08, -4.51984213e-08,\n",
       "        -2.27693560e-08, -7.63249256e-09, -1.35679290e-08,\n",
       "         3.19675789e-02, -1.24625201e-08, -3.37082525e-02,\n",
       "         1.00733093e+00, -3.64185487e-08, -2.78596862e-08,\n",
       "        -3.83107322e-08, -2.98783536e-08,  3.00524817e-02,\n",
       "         3.72598401e-02,  1.31135384e-08],\n",
       "       [-1.05558512e-08,  1.30964218e-08,  3.02750015e-08,\n",
       "        -3.50160296e-02,  1.53964463e-08,  2.31813003e-08,\n",
       "         2.56093895e-08,  5.55236107e-08, -3.37794010e-02,\n",
       "         3.78840322e-08,  4.28783561e-08,  4.59377823e-08,\n",
       "        -3.32302903e-02,  5.53297522e-09,  1.32158432e-08,\n",
       "         2.44272679e-08,  8.14818820e-09,  3.61756423e-02,\n",
       "        -3.64185487e-08,  1.01240961e+00, -3.79493458e-02,\n",
       "        -2.96582509e-02, -3.21270098e-02, -3.66230239e-02,\n",
       "         4.47180503e-08,  4.45501296e-02],\n",
       "       [-4.03699742e-09,  2.49175046e-08,  3.49787881e-08,\n",
       "         4.74674437e-08, -3.15153144e-02,  3.43366999e-08,\n",
       "         2.06217769e-08,  4.41427260e-08,  5.06863621e-08,\n",
       "        -3.47320851e-02,  3.39011210e-08,  3.78904909e-08,\n",
       "         3.35177065e-08, -3.32397447e-02,  2.17023772e-08,\n",
       "         1.62680549e-08, -3.78952203e-02,  3.73253491e-02,\n",
       "        -2.78596862e-08, -3.79493458e-02,  1.01209596e+00,\n",
       "        -3.35107137e-02, -3.95071159e-02,  4.48190923e-08,\n",
       "         3.94287198e-08, -3.27681900e-02],\n",
       "       [-9.31802239e-09,  1.28818782e-08,  4.08423057e-08,\n",
       "         4.14088339e-08,  2.40953306e-08,  2.43143571e-08,\n",
       "         2.55716135e-08,  5.58823827e-08,  4.72783754e-08,\n",
       "         4.64152166e-08, -3.48681244e-02,  4.18812142e-08,\n",
       "         3.13158230e-08,  1.85589973e-08, -3.92861589e-02,\n",
       "         2.34976788e-08,  2.43597336e-08,  3.08488433e-02,\n",
       "        -3.83107322e-08, -2.96582509e-02, -3.35107137e-02,\n",
       "         1.00894500e+00, -3.65226445e-02,  5.00709810e-08,\n",
       "        -3.94846868e-02, -4.60844074e-09],\n",
       "       [-5.43289238e-09,  1.79045650e-08,  3.32951200e-08,\n",
       "         4.71378993e-08,  2.30978014e-08, -3.44552230e-02,\n",
       "         1.68617611e-08,  4.32865194e-08,  4.87856159e-08,\n",
       "         2.77159218e-08,  2.98884045e-08, -2.59929949e-02,\n",
       "         4.30008907e-08,  1.87344985e-08,  2.55928573e-08,\n",
       "         2.07967109e-08,  1.90276753e-08,  4.49411001e-02,\n",
       "        -2.98783536e-08, -3.21270098e-02, -3.95071159e-02,\n",
       "        -3.65226445e-02,  1.00802426e+00,  5.29686732e-08,\n",
       "         3.58439745e-08,  2.64624689e-11],\n",
       "       [-1.20265391e-08,  8.15481216e-09,  3.53622234e-08,\n",
       "        -3.98259606e-02,  2.89705812e-08,  3.41290312e-08,\n",
       "         2.46988681e-08,  5.04649794e-08, -2.90497280e-02,\n",
       "         3.48010505e-08,  4.14410871e-08,  4.63462998e-08,\n",
       "        -3.25305145e-02,  1.30959842e-08,  2.11420591e-08,\n",
       "         2.07716777e-08,  6.59775483e-09, -5.57680052e-08,\n",
       "         3.00524817e-02, -3.66230239e-02,  4.48190923e-08,\n",
       "         5.00709810e-08,  5.29686732e-08,  1.00845472e+00,\n",
       "        -3.59261995e-02,  2.98132093e-02],\n",
       "       [-2.07321040e-08, -2.24307532e-09,  2.81145073e-08,\n",
       "         2.80475799e-08,  2.32795813e-08,  2.05754312e-08,\n",
       "         1.99762762e-08,  4.12934156e-08,  4.29676349e-08,\n",
       "         3.29932202e-08, -3.38407812e-02,  3.28686950e-08,\n",
       "         2.90854948e-08,  2.06710063e-08, -3.68677596e-02,\n",
       "         2.14373610e-08,  2.23621838e-08, -4.09383232e-08,\n",
       "         3.72598401e-02,  4.47180503e-08,  3.94287198e-08,\n",
       "        -3.94846868e-02,  3.58439745e-08, -3.59261995e-02,\n",
       "         1.00643220e+00, -4.84998537e-09],\n",
       "       [ 2.02056941e-09,  3.56406877e-09, -3.11913129e-09,\n",
       "         3.58139156e-02, -3.73790918e-02,  7.38488733e-09,\n",
       "        -1.24448164e-08, -1.86097204e-08,  1.66200338e-03,\n",
       "        -8.15811198e-03, -1.06739987e-08, -1.12369318e-08,\n",
       "         3.57635570e-03, -1.85720108e-03, -1.05238886e-09,\n",
       "        -7.96266895e-09, -4.10933746e-02,  1.13333307e-08,\n",
       "         1.31135384e-08,  4.45501296e-02, -3.27681900e-02,\n",
       "        -4.60844074e-09,  2.64624689e-11,  2.98132093e-02,\n",
       "        -4.84998537e-09,  1.00813281e+00]])"
      ]
     },
     "execution_count": 242,
     "metadata": {},
     "output_type": "execute_result"
    }
   ],
   "source": [
    "Theta_d"
   ]
  },
  {
   "cell_type": "code",
   "execution_count": 247,
   "metadata": {},
   "outputs": [
    {
     "data": {
      "text/plain": [
       "array([[ 5.4,  0. ,  0.2,  0. ,  0.2,  0.2,  0. , -0.2,  0. , -0.2,  0. ,\n",
       "        -0.2,  0. ,  0. ,  0. ,  0. ,  0. ,  0. ,  0. ,  0. ,  0. ,  0. ,\n",
       "         0. ,  0. ,  0. ,  0. ],\n",
       "       [ 0. ,  5.6,  0.2,  0. ,  0.2,  0. ,  0. ,  0. ,  0. ,  0. ,  0. ,\n",
       "         0. ,  0. ,  0. ,  0. , -0.2, -0.2,  0. ,  0. ,  0. ,  0. ,  0. ,\n",
       "         0. ,  0. ,  0. ,  0. ],\n",
       "       [ 0.2,  0.2,  5.6,  0. ,  0. ,  0. ,  0. ,  0.2,  0. ,  0. ,  0. ,\n",
       "         0. ,  0. ,  0. ,  0. ,  0.2,  0. ,  0. ,  0. ,  0. ,  0. ,  0. ,\n",
       "         0. ,  0. ,  0. ,  0. ],\n",
       "       [ 0. ,  0. ,  0. ,  6. ,  0. ,  0. ,  0. ,  0. ,  0. ,  0. ,  0. ,\n",
       "         0. ,  0. ,  0. ,  0. ,  0. ,  0. ,  0. ,  0. ,  0. ,  0. ,  0. ,\n",
       "         0. ,  0. ,  0. ,  0. ],\n",
       "       [ 0.2,  0.2,  0. ,  0. ,  5.6,  0. ,  0. ,  0. ,  0. ,  0.2,  0. ,\n",
       "         0. ,  0. ,  0. ,  0. ,  0. ,  0.2,  0. ,  0. ,  0. ,  0. ,  0. ,\n",
       "         0. ,  0. ,  0. ,  0. ],\n",
       "       [ 0.2,  0. ,  0. ,  0. ,  0. ,  5.8,  0. ,  0. ,  0. ,  0. ,  0. ,\n",
       "         0.2,  0. ,  0. ,  0. ,  0. ,  0. ,  0. ,  0. ,  0. ,  0. ,  0. ,\n",
       "         0. ,  0. ,  0. ,  0. ],\n",
       "       [ 0. ,  0. ,  0. ,  0. ,  0. ,  0. ,  5.6,  0. ,  0. ,  0.2,  0.2,\n",
       "         0. ,  0. , -0.2, -0.2,  0. ,  0. ,  0. ,  0. ,  0. ,  0. ,  0. ,\n",
       "         0. ,  0. ,  0. ,  0. ],\n",
       "       [-0.2,  0. ,  0.2,  0. ,  0. ,  0. ,  0. ,  5.8,  0. ,  0. ,  0. ,\n",
       "         0. ,  0. ,  0. ,  0. ,  0. ,  0. ,  0. ,  0. ,  0. ,  0. ,  0. ,\n",
       "         0. ,  0. ,  0. ,  0. ],\n",
       "       [ 0. ,  0. ,  0. ,  0. ,  0. ,  0. ,  0. ,  0. ,  5.8,  0.2,  0. ,\n",
       "         0. ,  0. ,  0. ,  0. ,  0. ,  0. ,  0. ,  0. ,  0. ,  0. ,  0. ,\n",
       "         0. ,  0. ,  0. , -0.2],\n",
       "       [-0.2,  0. ,  0. ,  0. ,  0.2,  0. ,  0.2,  0. ,  0.2,  5.4,  0. ,\n",
       "         0. ,  0. ,  0.2,  0. ,  0. ,  0. ,  0. ,  0. ,  0. ,  0. ,  0. ,\n",
       "         0. ,  0. ,  0. ,  0.2],\n",
       "       [ 0. ,  0. ,  0. ,  0. ,  0. ,  0. ,  0.2,  0. ,  0. ,  0. ,  5.8,\n",
       "         0. ,  0. ,  0. ,  0.2,  0. ,  0. ,  0. ,  0. ,  0. ,  0. ,  0. ,\n",
       "         0. ,  0. ,  0. ,  0. ],\n",
       "       [-0.2,  0. ,  0. ,  0. ,  0. ,  0.2,  0. ,  0. ,  0. ,  0. ,  0. ,\n",
       "         5.8,  0. ,  0. ,  0. ,  0. ,  0. ,  0. ,  0. ,  0. ,  0. ,  0. ,\n",
       "         0. ,  0. ,  0. ,  0. ],\n",
       "       [ 0. ,  0. ,  0. ,  0. ,  0. ,  0. ,  0. ,  0. ,  0. ,  0. ,  0. ,\n",
       "         0. ,  5.8,  0.2,  0. ,  0. ,  0. ,  0. ,  0. ,  0. ,  0. ,  0. ,\n",
       "         0. ,  0. ,  0. , -0.2],\n",
       "       [ 0. ,  0. ,  0. ,  0. ,  0. ,  0. , -0.2,  0. ,  0. ,  0.2,  0. ,\n",
       "         0. ,  0.2,  5.6,  0. ,  0. ,  0. ,  0. ,  0. ,  0. ,  0. ,  0. ,\n",
       "         0. ,  0. ,  0. ,  0.2],\n",
       "       [ 0. ,  0. ,  0. ,  0. ,  0. ,  0. , -0.2,  0. ,  0. ,  0. ,  0.2,\n",
       "         0. ,  0. ,  0. ,  5.8,  0. ,  0. ,  0. ,  0. ,  0. ,  0. ,  0. ,\n",
       "         0. ,  0. ,  0. ,  0. ],\n",
       "       [ 0. , -0.2,  0.2,  0. ,  0. ,  0. ,  0. ,  0. ,  0. ,  0. ,  0. ,\n",
       "         0. ,  0. ,  0. ,  0. ,  5.8,  0. ,  0. ,  0. ,  0. ,  0. ,  0. ,\n",
       "         0. ,  0. ,  0. ,  0. ],\n",
       "       [ 0. , -0.2,  0. ,  0. ,  0.2,  0. ,  0. ,  0. ,  0. ,  0. ,  0. ,\n",
       "         0. ,  0. ,  0. ,  0. ,  0. ,  5.8,  0. ,  0. ,  0. ,  0. ,  0. ,\n",
       "         0. ,  0. ,  0. ,  0. ],\n",
       "       [ 0. ,  0. ,  0. ,  0. ,  0. ,  0. ,  0. ,  0. ,  0. ,  0. ,  0. ,\n",
       "         0. ,  0. ,  0. ,  0. ,  0. ,  0. ,  6. ,  0. ,  0. ,  0. ,  0. ,\n",
       "         0. ,  0. ,  0. ,  0. ],\n",
       "       [ 0. ,  0. ,  0. ,  0. ,  0. ,  0. ,  0. ,  0. ,  0. ,  0. ,  0. ,\n",
       "         0. ,  0. ,  0. ,  0. ,  0. ,  0. ,  0. ,  6. ,  0. ,  0. ,  0. ,\n",
       "         0. ,  0. ,  0. ,  0. ],\n",
       "       [ 0. ,  0. ,  0. ,  0. ,  0. ,  0. ,  0. ,  0. ,  0. ,  0. ,  0. ,\n",
       "         0. ,  0. ,  0. ,  0. ,  0. ,  0. ,  0. ,  0. ,  6. ,  0. ,  0. ,\n",
       "         0. ,  0. ,  0. ,  0. ],\n",
       "       [ 0. ,  0. ,  0. ,  0. ,  0. ,  0. ,  0. ,  0. ,  0. ,  0. ,  0. ,\n",
       "         0. ,  0. ,  0. ,  0. ,  0. ,  0. ,  0. ,  0. ,  0. ,  6. ,  0. ,\n",
       "         0. ,  0. ,  0. ,  0. ],\n",
       "       [ 0. ,  0. ,  0. ,  0. ,  0. ,  0. ,  0. ,  0. ,  0. ,  0. ,  0. ,\n",
       "         0. ,  0. ,  0. ,  0. ,  0. ,  0. ,  0. ,  0. ,  0. ,  0. ,  6. ,\n",
       "         0. ,  0. ,  0. ,  0. ],\n",
       "       [ 0. ,  0. ,  0. ,  0. ,  0. ,  0. ,  0. ,  0. ,  0. ,  0. ,  0. ,\n",
       "         0. ,  0. ,  0. ,  0. ,  0. ,  0. ,  0. ,  0. ,  0. ,  0. ,  0. ,\n",
       "         6. ,  0. ,  0. ,  0. ],\n",
       "       [ 0. ,  0. ,  0. ,  0. ,  0. ,  0. ,  0. ,  0. ,  0. ,  0. ,  0. ,\n",
       "         0. ,  0. ,  0. ,  0. ,  0. ,  0. ,  0. ,  0. ,  0. ,  0. ,  0. ,\n",
       "         0. ,  6. ,  0. ,  0. ],\n",
       "       [ 0. ,  0. ,  0. ,  0. ,  0. ,  0. ,  0. ,  0. ,  0. ,  0. ,  0. ,\n",
       "         0. ,  0. ,  0. ,  0. ,  0. ,  0. ,  0. ,  0. ,  0. ,  0. ,  0. ,\n",
       "         0. ,  0. ,  6. ,  0. ],\n",
       "       [ 0. ,  0. ,  0. ,  0. ,  0. ,  0. ,  0. ,  0. , -0.2,  0.2,  0. ,\n",
       "         0. , -0.2,  0.2,  0. ,  0. ,  0. ,  0. ,  0. ,  0. ,  0. ,  0. ,\n",
       "         0. ,  0. ,  0. ,  5.6]])"
      ]
     },
     "execution_count": 247,
     "metadata": {},
     "output_type": "execute_result"
    }
   ],
   "source": [
    "np.round(prec_E_u,4)"
   ]
  },
  {
   "cell_type": "code",
   "execution_count": 249,
   "metadata": {},
   "outputs": [
    {
     "data": {
      "text/plain": [
       "array([[ 6., -0.,  0., -0.,  0., -0.,  0.,  0., -0.,  0., -0.,  0., -0.,\n",
       "         0.,  0., -0., -0., -0., -0.,  0.,  0., -0., -0.,  0.,  0., -0.],\n",
       "       [-0.,  6., -0.,  0., -0.,  0., -0., -0.,  0., -0.,  0., -0.,  0.,\n",
       "        -0., -0.,  0.,  0.,  0.,  0., -0., -0.,  0.,  0., -0., -0.,  0.],\n",
       "       [ 0., -0.,  6., -0.,  0., -0.,  0.,  0., -0.,  0., -0.,  0., -0.,\n",
       "         0.,  0., -0., -0., -0., -0.,  0.,  0., -0., -0.,  0.,  0., -0.],\n",
       "       [-0.,  0., -0.,  6., -0.,  0., -0., -0.,  0., -0., -0., -0.,  0.,\n",
       "        -0.,  0.,  0.,  0., -0.,  0., -0., -0., -0.,  0., -0., -0.,  0.],\n",
       "       [ 0., -0.,  0., -0.,  6., -0.,  0.,  0., -0.,  0., -0.,  0., -0.,\n",
       "         0.,  0., -0., -0., -0., -0.,  0.,  0., -0., -0.,  0.,  0., -0.],\n",
       "       [-0.,  0., -0.,  0., -0.,  6., -0., -0.,  0., -0.,  0., -0.,  0.,\n",
       "        -0., -0.,  0.,  0.,  0.,  0., -0., -0.,  0.,  0., -0., -0.,  0.],\n",
       "       [ 0., -0.,  0., -0.,  0., -0.,  6.,  0., -0.,  0., -0.,  0.,  0.,\n",
       "         0.,  0., -0., -0., -0., -0., -0.,  0., -0., -0., -0., -0., -0.],\n",
       "       [ 0., -0.,  0., -0.,  0., -0.,  0.,  6., -0.,  0., -0.,  0., -0.,\n",
       "         0., -0., -0., -0.,  0., -0.,  0.,  0., -0., -0.,  0.,  0., -0.],\n",
       "       [-0.,  0., -0.,  0., -0.,  0., -0., -0.,  6., -0.,  0., -0.,  0.,\n",
       "        -0., -0.,  0.,  0.,  0.,  0., -0., -0.,  0.,  0., -0.,  0.,  0.],\n",
       "       [ 0., -0.,  0., -0.,  0., -0.,  0.,  0., -0.,  6., -0.,  0., -0.,\n",
       "         0.,  0., -0., -0., -0., -0.,  0.,  0., -0., -0.,  0.,  0., -0.],\n",
       "       [-0.,  0., -0., -0., -0.,  0., -0., -0.,  0., -0.,  6., -0.,  0.,\n",
       "        -0., -0.,  0.,  0.,  0.,  0., -0., -0.,  0.,  0., -0.,  0.,  0.],\n",
       "       [ 0., -0.,  0., -0.,  0., -0.,  0.,  0., -0.,  0., -0.,  6., -0.,\n",
       "         0.,  0., -0., -0., -0., -0.,  0.,  0., -0., -0.,  0.,  0., -0.],\n",
       "       [-0.,  0., -0.,  0., -0.,  0.,  0., -0.,  0., -0.,  0., -0.,  6.,\n",
       "         0., -0.,  0.,  0.,  0.,  0.,  0.,  0.,  0.,  0.,  0.,  0., -0.],\n",
       "       [ 0., -0.,  0., -0.,  0., -0.,  0.,  0., -0.,  0., -0.,  0.,  0.,\n",
       "         6.,  0., -0., -0., -0., -0., -0.,  0., -0., -0.,  0.,  0., -0.],\n",
       "       [ 0., -0.,  0.,  0.,  0., -0.,  0., -0., -0.,  0., -0.,  0., -0.,\n",
       "         0.,  6., -0., -0.,  0., -0.,  0.,  0., -0., -0.,  0.,  0., -0.],\n",
       "       [-0.,  0., -0.,  0., -0.,  0., -0., -0.,  0., -0.,  0., -0.,  0.,\n",
       "        -0., -0.,  6.,  0.,  0.,  0., -0., -0.,  0.,  0., -0., -0.,  0.],\n",
       "       [-0.,  0., -0.,  0., -0.,  0., -0., -0.,  0., -0.,  0., -0.,  0.,\n",
       "        -0., -0.,  0.,  6.,  0.,  0., -0., -0.,  0.,  0., -0., -0.,  0.],\n",
       "       [-0.,  0., -0., -0., -0.,  0., -0.,  0.,  0., -0.,  0., -0.,  0.,\n",
       "        -0.,  0.,  0.,  0.,  6.,  0., -0., -0.,  0.,  0., -0., -0.,  0.],\n",
       "       [-0.,  0., -0.,  0., -0.,  0., -0., -0.,  0., -0.,  0., -0.,  0.,\n",
       "        -0., -0.,  0.,  0.,  0.,  6., -0., -0.,  0.,  0., -0.,  0.,  0.],\n",
       "       [ 0., -0.,  0., -0.,  0., -0., -0.,  0., -0.,  0., -0.,  0.,  0.,\n",
       "        -0.,  0., -0., -0., -0., -0.,  6., -0., -0.,  0., -0., -0.,  0.],\n",
       "       [ 0., -0.,  0., -0.,  0., -0.,  0.,  0., -0.,  0., -0.,  0.,  0.,\n",
       "         0.,  0., -0., -0., -0., -0., -0.,  6., -0., -0.,  0., -0., -0.],\n",
       "       [-0.,  0., -0., -0., -0.,  0., -0., -0.,  0., -0.,  0., -0.,  0.,\n",
       "        -0., -0.,  0.,  0.,  0.,  0., -0., -0.,  6.,  0., -0., -0.,  0.],\n",
       "       [-0.,  0., -0.,  0., -0.,  0., -0., -0.,  0., -0.,  0., -0.,  0.,\n",
       "        -0., -0.,  0.,  0.,  0.,  0.,  0., -0.,  0.,  6., -0., -0.,  0.],\n",
       "       [ 0., -0.,  0., -0.,  0., -0., -0.,  0., -0.,  0., -0.,  0.,  0.,\n",
       "         0.,  0., -0., -0., -0., -0., -0.,  0., -0., -0.,  6., -0., -0.],\n",
       "       [ 0., -0.,  0., -0.,  0., -0., -0.,  0.,  0.,  0.,  0.,  0.,  0.,\n",
       "         0.,  0., -0., -0., -0.,  0., -0., -0., -0., -0., -0.,  6., -0.],\n",
       "       [-0.,  0., -0.,  0., -0.,  0., -0., -0.,  0., -0.,  0., -0., -0.,\n",
       "        -0., -0.,  0.,  0.,  0.,  0.,  0., -0.,  0.,  0., -0., -0.,  6.]])"
      ]
     },
     "execution_count": 249,
     "metadata": {},
     "output_type": "execute_result"
    }
   ],
   "source": [
    "np.round(Theta_u*6,5)"
   ]
  },
  {
   "cell_type": "code",
   "execution_count": 155,
   "metadata": {},
   "outputs": [
    {
     "data": {
      "text/plain": [
       "array([[ 5.6, -0.2, -0.2, -0.2,  0.2,  0.2,  0.2,  0. ,  0. ,  0. ,  0. ,\n",
       "         0. ,  0. ,  0. ,  0. ,  0. ,  0. ,  0. ,  0. ],\n",
       "       [-0.2,  5.6, -0.2, -0.2,  0. ,  0. ,  0. ,  0.2,  0.2,  0. ,  0. ,\n",
       "         0. ,  0. ,  0. ,  0. ,  0. ,  0. ,  0. ,  0. ],\n",
       "       [-0.2, -0.2,  5.4,  0. ,  0. ,  0. ,  0. ,  0. ,  0. ,  0. ,  0.2,\n",
       "         0.2,  0. ,  0. ,  0. ,  0. ,  0. ,  0. ,  0. ],\n",
       "       [-0.2, -0.2,  0. ,  5.4,  0. ,  0. ,  0. ,  0. ,  0. ,  0. ,  0. ,\n",
       "         0. ,  0. ,  0. ,  0.2,  0.2,  0. ,  0. ,  0. ],\n",
       "       [ 0.2,  0. ,  0. ,  0. ,  5.6, -0.2, -0.2, -0.2,  0. ,  0. ,  0. ,\n",
       "         0. ,  0.2,  0.2,  0. ,  0. ,  0. ,  0. ,  0. ],\n",
       "       [ 0.2,  0. ,  0. ,  0. , -0.2,  5.6, -0.2,  0. , -0.2,  0. ,  0. ,\n",
       "         0. ,  0. , -0.2,  0. ,  0. , -0.2,  0. ,  0.2],\n",
       "       [ 0.2,  0. ,  0. ,  0. , -0.2, -0.2,  5.6,  0. ,  0. ,  0. ,  0. ,\n",
       "         0. ,  0. ,  0. ,  0. , -0.2,  0. , -0.2,  0. ],\n",
       "       [ 0. ,  0.2,  0. ,  0. , -0.2,  0. ,  0. ,  5.4,  0. ,  0. ,  0. ,\n",
       "         0. ,  0.2,  0. ,  0. ,  0. ,  0. ,  0. ,  0. ],\n",
       "       [ 0. ,  0.2,  0. ,  0. ,  0. , -0.2,  0. ,  0. ,  5.4,  0. ,  0. ,\n",
       "         0. ,  0. ,  0. ,  0. ,  0. , -0.2,  0. ,  0.2],\n",
       "       [ 0. ,  0. ,  0. ,  0. ,  0. ,  0. ,  0. ,  0. ,  0. ,  5.4, -0.2,\n",
       "        -0.2,  0. ,  0. ,  0.2,  0.2,  0. ,  0. ,  0. ],\n",
       "       [ 0. ,  0. ,  0.2,  0. ,  0. ,  0. ,  0. ,  0. ,  0. , -0.2,  5.6,\n",
       "        -0.2, -0.2,  0. ,  0. ,  0. ,  0.2,  0.2,  0. ],\n",
       "       [ 0. ,  0. ,  0.2,  0. ,  0. ,  0. ,  0. ,  0. ,  0. , -0.2, -0.2,\n",
       "         5.6,  0. ,  0. , -0.2,  0. ,  0. ,  0. , -0.2],\n",
       "       [ 0. ,  0. ,  0. ,  0. ,  0.2,  0. ,  0. ,  0.2,  0. ,  0. , -0.2,\n",
       "         0. ,  5.4,  0. ,  0. ,  0. ,  0. ,  0.2,  0. ],\n",
       "       [ 0. ,  0. ,  0. ,  0. ,  0.2, -0.2,  0. ,  0. ,  0. ,  0. ,  0. ,\n",
       "         0. ,  0. ,  5.2,  0. ,  0. ,  0. ,  0. ,  0.2],\n",
       "       [ 0. ,  0. ,  0. ,  0.2,  0. ,  0. ,  0. ,  0. ,  0. ,  0.2,  0. ,\n",
       "        -0.2,  0. ,  0. ,  5.6, -0.2,  0. ,  0. , -0.2],\n",
       "       [ 0. ,  0. ,  0. ,  0.2,  0. ,  0. , -0.2,  0. ,  0. ,  0.2,  0. ,\n",
       "         0. ,  0. ,  0. , -0.2,  5.6,  0. , -0.2,  0. ],\n",
       "       [ 0. ,  0. ,  0. ,  0. ,  0. , -0.2,  0. ,  0. , -0.2,  0. ,  0.2,\n",
       "         0. ,  0. ,  0. ,  0. ,  0. ,  5.4, -0.2,  0.2],\n",
       "       [ 0. ,  0. ,  0. ,  0. ,  0. ,  0. , -0.2,  0. ,  0. ,  0. ,  0.2,\n",
       "         0. ,  0.2,  0. ,  0. , -0.2, -0.2,  5.6,  0. ],\n",
       "       [ 0. ,  0. ,  0. ,  0. ,  0. ,  0.2,  0. ,  0. ,  0.2,  0. ,  0. ,\n",
       "        -0.2,  0. ,  0.2, -0.2,  0. ,  0.2,  0. ,  5.6]])"
      ]
     },
     "execution_count": 155,
     "metadata": {},
     "output_type": "execute_result"
    }
   ],
   "source": [
    "prec_E"
   ]
  },
  {
   "cell_type": "code",
   "execution_count": 246,
   "metadata": {},
   "outputs": [
    {
     "data": {
      "text/plain": [
       "array([[-0.4618, -0.    , -0.2   , -0.    , -0.2   , -0.2   ,  0.    ,\n",
       "         0.2   , -0.    ,  0.2   , -0.    ,  0.2   , -0.    ,  0.    ,\n",
       "         0.    , -0.    , -0.    , -0.    , -0.    ,  0.    ,  0.    ,\n",
       "        -0.    , -0.    ,  0.    ,  0.    , -0.    ],\n",
       "       [-0.    , -0.3758, -0.2   ,  0.    , -0.2   ,  0.    , -0.    ,\n",
       "        -0.    ,  0.    , -0.    ,  0.    , -0.    ,  0.    , -0.    ,\n",
       "        -0.    ,  0.2   ,  0.2   ,  0.    ,  0.    , -0.    , -0.    ,\n",
       "         0.    ,  0.    , -0.    , -0.    ,  0.    ],\n",
       "       [-0.2   , -0.2   , -0.4405, -0.    ,  0.    , -0.    ,  0.    ,\n",
       "        -0.2   , -0.    ,  0.    , -0.    ,  0.    , -0.    ,  0.    ,\n",
       "         0.    , -0.2   , -0.    , -0.    , -0.    ,  0.    ,  0.    ,\n",
       "        -0.    , -0.    ,  0.    ,  0.    , -0.    ],\n",
       "       [-0.    ,  0.    , -0.    , -0.4397, -0.    ,  0.    , -0.    ,\n",
       "        -0.    ,  0.    , -0.    , -0.    , -0.    ,  0.    , -0.    ,\n",
       "         0.    ,  0.    ,  0.    , -0.    ,  0.    , -0.    , -0.    ,\n",
       "        -0.    ,  0.    , -0.    , -0.    ,  0.    ],\n",
       "       [-0.2   , -0.2   ,  0.    , -0.    , -0.3501, -0.    ,  0.    ,\n",
       "         0.    , -0.    , -0.2   , -0.    ,  0.    , -0.    ,  0.    ,\n",
       "         0.    , -0.    , -0.2   , -0.    , -0.    ,  0.    ,  0.    ,\n",
       "        -0.    , -0.    ,  0.    ,  0.    , -0.    ],\n",
       "       [-0.2   ,  0.    , -0.    ,  0.    , -0.    , -0.5155, -0.    ,\n",
       "        -0.    ,  0.    , -0.    ,  0.    , -0.2   ,  0.    , -0.    ,\n",
       "        -0.    ,  0.    ,  0.    ,  0.    ,  0.    , -0.    , -0.    ,\n",
       "         0.    ,  0.    , -0.    , -0.    ,  0.    ],\n",
       "       [ 0.    , -0.    ,  0.    , -0.    ,  0.    , -0.    , -0.4709,\n",
       "         0.    , -0.    , -0.2   , -0.2   ,  0.    ,  0.    ,  0.2   ,\n",
       "         0.2   , -0.    , -0.    , -0.    , -0.    , -0.    ,  0.    ,\n",
       "        -0.    , -0.    , -0.    , -0.    , -0.    ],\n",
       "       [ 0.2   , -0.    , -0.2   , -0.    ,  0.    , -0.    ,  0.    ,\n",
       "        -0.3566, -0.    ,  0.    , -0.    ,  0.    , -0.    ,  0.    ,\n",
       "        -0.    , -0.    , -0.    ,  0.    , -0.    ,  0.    ,  0.    ,\n",
       "        -0.    , -0.    ,  0.    ,  0.    , -0.    ],\n",
       "       [-0.    ,  0.    , -0.    ,  0.    , -0.    ,  0.    , -0.    ,\n",
       "        -0.    , -0.4577, -0.2   ,  0.    , -0.    ,  0.    , -0.    ,\n",
       "        -0.    ,  0.    ,  0.    ,  0.    ,  0.    , -0.    , -0.    ,\n",
       "         0.    ,  0.    , -0.    ,  0.    ,  0.2   ],\n",
       "       [ 0.2   , -0.    ,  0.    , -0.    , -0.2   , -0.    , -0.2   ,\n",
       "         0.    , -0.2   , -0.4331, -0.    ,  0.    , -0.    , -0.2   ,\n",
       "         0.    , -0.    , -0.    , -0.    , -0.    ,  0.    ,  0.    ,\n",
       "        -0.    , -0.    ,  0.    ,  0.    , -0.2   ],\n",
       "       [-0.    ,  0.    , -0.    , -0.    , -0.    ,  0.    , -0.2   ,\n",
       "        -0.    ,  0.    , -0.    , -0.4283, -0.    ,  0.    , -0.    ,\n",
       "        -0.2   ,  0.    ,  0.    ,  0.    ,  0.    , -0.    , -0.    ,\n",
       "         0.    ,  0.    , -0.    ,  0.    ,  0.    ],\n",
       "       [ 0.2   , -0.    ,  0.    , -0.    ,  0.    , -0.2   ,  0.    ,\n",
       "         0.    , -0.    ,  0.    , -0.    , -0.4864, -0.    ,  0.    ,\n",
       "         0.    , -0.    , -0.    , -0.    , -0.    ,  0.    ,  0.    ,\n",
       "        -0.    , -0.    ,  0.    ,  0.    , -0.    ],\n",
       "       [-0.    ,  0.    , -0.    ,  0.    , -0.    ,  0.    ,  0.    ,\n",
       "        -0.    ,  0.    , -0.    ,  0.    , -0.    , -0.4917, -0.2   ,\n",
       "        -0.    ,  0.    ,  0.    ,  0.    ,  0.    ,  0.    ,  0.    ,\n",
       "         0.    ,  0.    ,  0.    ,  0.    ,  0.2   ],\n",
       "       [ 0.    , -0.    ,  0.    , -0.    ,  0.    , -0.    ,  0.2   ,\n",
       "         0.    , -0.    , -0.2   , -0.    ,  0.    , -0.2   , -0.4152,\n",
       "         0.    , -0.    , -0.    , -0.    , -0.    , -0.    ,  0.    ,\n",
       "        -0.    , -0.    ,  0.    ,  0.    , -0.2   ],\n",
       "       [ 0.    , -0.    ,  0.    ,  0.    ,  0.    , -0.    ,  0.2   ,\n",
       "        -0.    , -0.    ,  0.    , -0.2   ,  0.    , -0.    ,  0.    ,\n",
       "        -0.4197, -0.    , -0.    ,  0.    , -0.    ,  0.    ,  0.    ,\n",
       "        -0.    , -0.    ,  0.    ,  0.    , -0.    ],\n",
       "       [-0.    ,  0.2   , -0.2   ,  0.    , -0.    ,  0.    , -0.    ,\n",
       "        -0.    ,  0.    , -0.    ,  0.    , -0.    ,  0.    , -0.    ,\n",
       "        -0.    , -0.4448,  0.    ,  0.    ,  0.    , -0.    , -0.    ,\n",
       "         0.    ,  0.    , -0.    , -0.    ,  0.    ],\n",
       "       [-0.    ,  0.2   , -0.    ,  0.    , -0.2   ,  0.    , -0.    ,\n",
       "        -0.    ,  0.    , -0.    ,  0.    , -0.    ,  0.    , -0.    ,\n",
       "        -0.    ,  0.    , -0.4005,  0.    ,  0.    , -0.    , -0.    ,\n",
       "         0.    ,  0.    , -0.    , -0.    ,  0.    ],\n",
       "       [-0.    ,  0.    , -0.    , -0.    , -0.    ,  0.    , -0.    ,\n",
       "         0.    ,  0.    , -0.    ,  0.    , -0.    ,  0.    , -0.    ,\n",
       "         0.    ,  0.    ,  0.    , -0.4555,  0.    , -0.    , -0.    ,\n",
       "         0.    ,  0.    , -0.    , -0.    ,  0.    ],\n",
       "       [-0.    ,  0.    , -0.    ,  0.    , -0.    ,  0.    , -0.    ,\n",
       "        -0.    ,  0.    , -0.    ,  0.    , -0.    ,  0.    , -0.    ,\n",
       "        -0.    ,  0.    ,  0.    ,  0.    , -0.3997, -0.    , -0.    ,\n",
       "         0.    ,  0.    , -0.    ,  0.    ,  0.    ],\n",
       "       [ 0.    , -0.    ,  0.    , -0.    ,  0.    , -0.    , -0.    ,\n",
       "         0.    , -0.    ,  0.    , -0.    ,  0.    ,  0.    , -0.    ,\n",
       "         0.    , -0.    , -0.    , -0.    , -0.    , -0.4414, -0.    ,\n",
       "        -0.    ,  0.    , -0.    , -0.    ,  0.    ],\n",
       "       [ 0.    , -0.    ,  0.    , -0.    ,  0.    , -0.    ,  0.    ,\n",
       "         0.    , -0.    ,  0.    , -0.    ,  0.    ,  0.    ,  0.    ,\n",
       "         0.    , -0.    , -0.    , -0.    , -0.    , -0.    , -0.4474,\n",
       "        -0.    , -0.    ,  0.    , -0.    , -0.    ],\n",
       "       [-0.    ,  0.    , -0.    , -0.    , -0.    ,  0.    , -0.    ,\n",
       "        -0.    ,  0.    , -0.    ,  0.    , -0.    ,  0.    , -0.    ,\n",
       "        -0.    ,  0.    ,  0.    ,  0.    ,  0.    , -0.    , -0.    ,\n",
       "        -0.4841,  0.    , -0.    , -0.    ,  0.    ],\n",
       "       [-0.    ,  0.    , -0.    ,  0.    , -0.    ,  0.    , -0.    ,\n",
       "        -0.    ,  0.    , -0.    ,  0.    , -0.    ,  0.    , -0.    ,\n",
       "        -0.    ,  0.    ,  0.    ,  0.    ,  0.    ,  0.    , -0.    ,\n",
       "         0.    , -0.4043, -0.    , -0.    ,  0.    ],\n",
       "       [ 0.    , -0.    ,  0.    , -0.    ,  0.    , -0.    , -0.    ,\n",
       "         0.    , -0.    ,  0.    , -0.    ,  0.    ,  0.    ,  0.    ,\n",
       "         0.    , -0.    , -0.    , -0.    , -0.    , -0.    ,  0.    ,\n",
       "        -0.    , -0.    , -0.4846, -0.    , -0.    ],\n",
       "       [ 0.    , -0.    ,  0.    , -0.    ,  0.    , -0.    , -0.    ,\n",
       "         0.    ,  0.    ,  0.    ,  0.    ,  0.    ,  0.    ,  0.    ,\n",
       "         0.    , -0.    , -0.    , -0.    ,  0.    , -0.    , -0.    ,\n",
       "        -0.    , -0.    , -0.    , -0.3924, -0.    ],\n",
       "       [-0.    ,  0.    , -0.    ,  0.    , -0.    ,  0.    , -0.    ,\n",
       "        -0.    ,  0.2   , -0.2   ,  0.    , -0.    ,  0.2   , -0.2   ,\n",
       "        -0.    ,  0.    ,  0.    ,  0.    ,  0.    ,  0.    , -0.    ,\n",
       "         0.    ,  0.    , -0.    , -0.    , -0.4342]])"
      ]
     },
     "execution_count": 246,
     "metadata": {},
     "output_type": "execute_result"
    }
   ],
   "source": [
    "np.round(np.diag(l) @ Theta_u @ np.diag(l),4)- np.round(prec_E_u,4)"
   ]
  },
  {
   "cell_type": "code",
   "execution_count": 64,
   "metadata": {},
   "outputs": [
    {
     "data": {
      "text/plain": [
       "array([[ 6. ,  0. ,  0. ,  0. ,  0. ,  0. ,  0. ,  0. ,  0. ,  0. ,  0. ,\n",
       "         0. ,  0. ,  0. ,  0. ,  0. ,  0. ,  0. ,  0. ],\n",
       "       [ 0. ,  6. ,  0. ,  0. ,  0. ,  0. ,  0. ,  0. ,  0. ,  0. ,  0. ,\n",
       "         0. ,  0. ,  0. ,  0. ,  0. ,  0. ,  0. ,  0. ],\n",
       "       [ 0. ,  0. ,  5.8,  0.2,  0. ,  0. ,  0. ,  0. ,  0. , -0.2,  0. ,\n",
       "         0. ,  0. ,  0. ,  0. ,  0. ,  0. ,  0. ,  0. ],\n",
       "       [ 0. ,  0. ,  0.2,  5.8,  0. ,  0. ,  0. ,  0. ,  0. ,  0.2,  0. ,\n",
       "         0. ,  0. ,  0. ,  0. ,  0. ,  0. ,  0. ,  0. ],\n",
       "       [ 0. ,  0. ,  0. ,  0. ,  6. ,  0. ,  0. ,  0. ,  0. ,  0. ,  0. ,\n",
       "         0. ,  0. ,  0. ,  0. ,  0. ,  0. ,  0. ,  0. ],\n",
       "       [ 0. ,  0. ,  0. ,  0. ,  0. ,  6. ,  0. ,  0. ,  0. ,  0. ,  0. ,\n",
       "         0. ,  0. ,  0. ,  0. ,  0. ,  0. ,  0. ,  0. ],\n",
       "       [ 0. ,  0. ,  0. ,  0. ,  0. ,  0. ,  6. ,  0. ,  0. ,  0. ,  0. ,\n",
       "         0. ,  0. ,  0. ,  0. ,  0. ,  0. ,  0. ,  0. ],\n",
       "       [ 0. ,  0. ,  0. ,  0. ,  0. ,  0. ,  0. ,  5.8,  0.2,  0. ,  0. ,\n",
       "         0. ,  0. , -0.2,  0. ,  0. ,  0. ,  0. ,  0. ],\n",
       "       [ 0. ,  0. ,  0. ,  0. ,  0. ,  0. ,  0. ,  0.2,  5.8,  0. ,  0. ,\n",
       "         0. ,  0. ,  0.2,  0. ,  0. ,  0. ,  0. ,  0. ],\n",
       "       [ 0. ,  0. , -0.2,  0.2,  0. ,  0. ,  0. ,  0. ,  0. ,  5.8,  0. ,\n",
       "         0. ,  0. ,  0. ,  0. ,  0. ,  0. ,  0. ,  0. ],\n",
       "       [ 0. ,  0. ,  0. ,  0. ,  0. ,  0. ,  0. ,  0. ,  0. ,  0. ,  6. ,\n",
       "         0. ,  0. ,  0. ,  0. ,  0. ,  0. ,  0. ,  0. ],\n",
       "       [ 0. ,  0. ,  0. ,  0. ,  0. ,  0. ,  0. ,  0. ,  0. ,  0. ,  0. ,\n",
       "         6. ,  0. ,  0. ,  0. ,  0. ,  0. ,  0. ,  0. ],\n",
       "       [ 0. ,  0. ,  0. ,  0. ,  0. ,  0. ,  0. ,  0. ,  0. ,  0. ,  0. ,\n",
       "         0. ,  5.8,  0.2,  0. ,  0. , -0.2,  0. ,  0. ],\n",
       "       [ 0. ,  0. ,  0. ,  0. ,  0. ,  0. ,  0. , -0.2,  0.2,  0. ,  0. ,\n",
       "         0. ,  0.2,  5.6,  0. ,  0. ,  0.2,  0. ,  0. ],\n",
       "       [ 0. ,  0. ,  0. ,  0. ,  0. ,  0. ,  0. ,  0. ,  0. ,  0. ,  0. ,\n",
       "         0. ,  0. ,  0. ,  6. ,  0. ,  0. ,  0. ,  0. ],\n",
       "       [ 0. ,  0. ,  0. ,  0. ,  0. ,  0. ,  0. ,  0. ,  0. ,  0. ,  0. ,\n",
       "         0. ,  0. ,  0. ,  0. ,  6. ,  0. ,  0. ,  0. ],\n",
       "       [ 0. ,  0. ,  0. ,  0. ,  0. ,  0. ,  0. ,  0. ,  0. ,  0. ,  0. ,\n",
       "         0. , -0.2,  0.2,  0. ,  0. ,  5.8,  0. ,  0. ],\n",
       "       [ 0. ,  0. ,  0. ,  0. ,  0. ,  0. ,  0. ,  0. ,  0. ,  0. ,  0. ,\n",
       "         0. ,  0. ,  0. ,  0. ,  0. ,  0. ,  6. ,  0. ],\n",
       "       [ 0. ,  0. ,  0. ,  0. ,  0. ,  0. ,  0. ,  0. ,  0. ,  0. ,  0. ,\n",
       "         0. ,  0. ,  0. ,  0. ,  0. ,  0. ,  0. ,  6. ]])"
      ]
     },
     "execution_count": 64,
     "metadata": {},
     "output_type": "execute_result"
    }
   ],
   "source": [
    "np.round(prec_E_u,4)"
   ]
  }
 ],
 "metadata": {
  "kernelspec": {
   "display_name": "main_env",
   "language": "python",
   "name": "python3"
  },
  "language_info": {
   "codemirror_mode": {
    "name": "ipython",
    "version": 3
   },
   "file_extension": ".py",
   "mimetype": "text/x-python",
   "name": "python",
   "nbconvert_exporter": "python",
   "pygments_lexer": "ipython3",
   "version": "3.9.20"
  }
 },
 "nbformat": 4,
 "nbformat_minor": 2
}
