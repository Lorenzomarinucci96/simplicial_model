{
 "cells": [
  {
   "cell_type": "code",
   "execution_count": 1,
   "metadata": {},
   "outputs": [],
   "source": [
    "import matplotlib.pyplot as plt\n",
    "import numpy as np\n",
    "import pandas as pd\n",
    "from library import *\n",
    "import cvxpy as cp"
   ]
  },
  {
   "cell_type": "markdown",
   "metadata": {},
   "source": [
    "### Generating Data"
   ]
  },
  {
   "cell_type": "code",
   "execution_count": 2,
   "metadata": {},
   "outputs": [],
   "source": [
    "def same_sparsity_structure(A, B, threshold=1e-10):\n",
    "    A_clean = A.copy()\n",
    "    A_clean[np.abs(A_clean) < threshold] = 0.0\n",
    "\n",
    "    B_clean = B.copy()\n",
    "    B_clean[np.abs(B_clean) < threshold] = 0.0\n",
    "    mask_A = A_clean != 0.0\n",
    "    mask_B = B_clean != 0.0\n",
    "\n",
    "    same_structure = np.array_equal(mask_A, mask_B)\n",
    "\n",
    "    return same_structure, mask_A, mask_B"
   ]
  },
  {
   "cell_type": "code",
   "execution_count": 3,
   "metadata": {},
   "outputs": [],
   "source": [
    "max_dimension = 2 # Dimension of the complex, e.g. 2 -> nodes, egdes, triangles\n",
    "p_complex = [.3,.6]\n",
    "max_num_simplices = 60 # Maximum number of simplices\n",
    "min_num_simplices = 20 # Minimum number of simplices\n",
    "avg_nodes = 10\n",
    "variance_complex = 2"
   ]
  },
  {
   "cell_type": "code",
   "execution_count": 4,
   "metadata": {},
   "outputs": [
    {
     "name": "stdout",
     "output_type": "stream",
     "text": [
      "Complex correctly saved on the current path, veryfing if valid...\n",
      "The generated complex does not respect the imposed constraints... Trying again!\n",
      "Complex correctly saved on the current path, veryfing if valid...\n",
      "Valid complex generated/loaded!\n"
     ]
    }
   ],
   "source": [
    "valid_data_point = 0\n",
    "valid_complex = 0\n",
    "while not valid_complex:\n",
    "      _, incidence_mats, num_simplices = generate_simplicial_complex(avg_nodes, max_dimension, p_complex, variance_complex)\n",
    "      if num_simplices < max_num_simplices and num_simplices >= min_num_simplices:\n",
    "        valid_complex = 1\n",
    "        print(\"Valid complex generated/loaded!\")\n",
    "      else:\n",
    "       print(\"The generated complex does not respect the imposed constraints... Trying again!\")"
   ]
  },
  {
   "cell_type": "code",
   "execution_count": 5,
   "metadata": {},
   "outputs": [
    {
     "data": {
      "text/plain": [
       "(8, 13)"
      ]
     },
     "execution_count": 5,
     "metadata": {},
     "output_type": "execute_result"
    }
   ],
   "source": [
    "B1=incidence_mats[1]\n",
    "B1.shape"
   ]
  },
  {
   "cell_type": "code",
   "execution_count": 6,
   "metadata": {},
   "outputs": [
    {
     "data": {
      "text/plain": [
       "(13, 6)"
      ]
     },
     "execution_count": 6,
     "metadata": {},
     "output_type": "execute_result"
    }
   ],
   "source": [
    "B2=incidence_mats[2]\n",
    "B2.shape"
   ]
  },
  {
   "cell_type": "code",
   "execution_count": 7,
   "metadata": {},
   "outputs": [],
   "source": [
    "n_nodes=B1.shape[0]\n",
    "n_edges=B1.shape[1]\n",
    "n_triangles=B2.shape[1]"
   ]
  },
  {
   "cell_type": "code",
   "execution_count": 8,
   "metadata": {},
   "outputs": [],
   "source": [
    "D_V=5*np.eye(n_nodes)\n",
    "D_E=6*np.eye(n_edges)\n",
    "D_T=5*np.eye(n_triangles) "
   ]
  },
  {
   "cell_type": "code",
   "execution_count": 9,
   "metadata": {},
   "outputs": [
    {
     "data": {
      "text/plain": [
       "True"
      ]
     },
     "execution_count": 9,
     "metadata": {},
     "output_type": "execute_result"
    }
   ],
   "source": [
    "row1 = np.hstack([D_V, -B1, np.zeros((n_nodes,n_triangles))])\n",
    "row2 = np.hstack([-B1.T, D_E, -B2])\n",
    "row3 = np.hstack([np.zeros((n_triangles,n_nodes)), -B2.T, D_T])\n",
    "prec_matrix = np.vstack([row1, row2, row3]) #build precision matrix over vertices, edges and triangles\n",
    "eigvals = np.linalg.eigvalsh(prec_matrix)  \n",
    "check=np.all(eigvals > 0)\n",
    "check    #check pos.def."
   ]
  },
  {
   "cell_type": "code",
   "execution_count": 11,
   "metadata": {},
   "outputs": [],
   "source": [
    "cov=np.linalg.inv(prec_matrix)  #covariance matrix of the complete prec. matrix \n",
    "cov[:n_nodes,-n_triangles:] = np.zeros((n_nodes,n_triangles)) \n",
    "cov[-n_triangles:,:n_nodes] = np.zeros((n_triangles,n_nodes)) \n",
    "iterations=50000\n",
    "mu=np.zeros(n_nodes+n_edges+n_triangles)\n",
    "X = np.random.multivariate_normal(mu, cov, size=iterations)  # data generation over vertices, edges and triangles "
   ]
  },
  {
   "cell_type": "code",
   "execution_count": 12,
   "metadata": {},
   "outputs": [
    {
     "data": {
      "text/plain": [
       "(50000, 13)"
      ]
     },
     "execution_count": 12,
     "metadata": {},
     "output_type": "execute_result"
    }
   ],
   "source": [
    "X_E=X[:,n_nodes:n_nodes+n_edges]\n",
    "X_E.shape #edge signals"
   ]
  },
  {
   "cell_type": "code",
   "execution_count": 13,
   "metadata": {},
   "outputs": [],
   "source": [
    "cov_E=cov[n_nodes:n_nodes+n_edges,n_nodes:n_nodes+n_edges] #edge-level covariance matrix\n",
    "prec_E=np.linalg.inv(cov_E)\n",
    "prec_E[np.abs(prec_E) < 1e-10] = 0.0 #edge-level precision matrix\n"
   ]
  },
  {
   "cell_type": "code",
   "execution_count": 14,
   "metadata": {},
   "outputs": [
    {
     "data": {
      "text/plain": [
       "0.010802468963740411"
      ]
     },
     "execution_count": 14,
     "metadata": {},
     "output_type": "execute_result"
    }
   ],
   "source": [
    "S = (1/iterations)*X_E.T @ X_E #empirical covariance\n",
    "np.linalg.norm(S-cov_E)  #approx error"
   ]
  },
  {
   "cell_type": "code",
   "execution_count": 22,
   "metadata": {},
   "outputs": [],
   "source": [
    "prec_E_d=D_E-B1.T@np.linalg.inv(D_V)@B1 #prec. matrix of the lower component\n",
    "prec_E_u=D_E-B2@np.linalg.inv(D_T)@B2.T #prec. matrix of the upper component\n"
   ]
  },
  {
   "cell_type": "markdown",
   "metadata": {},
   "source": [
    "### Inference \n"
   ]
  },
  {
   "cell_type": "code",
   "execution_count": 15,
   "metadata": {},
   "outputs": [],
   "source": [
    "class Inference:\n",
    "    def __init__(\n",
    "            self,\n",
    "            S, \n",
    "            MAX_ITER,\n",
    "            inc_mats\n",
    "    ):\n",
    "        self.S = S\n",
    "        self.MAX_ITER = MAX_ITER\n",
    "        self.B1 = inc_mats[1]\n",
    "        self.B2 = inc_mats[2]\n",
    "\n",
    "        self.n_edges = S.shape[0]\n",
    "\n",
    "        self.mask_d = (self.B1.T @ self.B1 != 0.0).astype(int)\n",
    "        self.mask_u = (self.B2 @ self.B2.T != 0.0).astype(int)\n",
    "\n",
    "        for i in range(self.n_edges):\n",
    "            self.mask_d[i,i] = 1\n",
    "            self.mask_u[i,i] = 1 \n",
    "    \n",
    "        # Build problems (they will be compiled at first solving)\n",
    "        self._opt_lambda_build()\n",
    "        self._opt_Theta_d_build()\n",
    "        self._opt_Theta_u_build()\n",
    "\n",
    "    def _initialization(\n",
    "            self\n",
    "    ):\n",
    "        '''\n",
    "        Initialize the variables in the optimization problem\n",
    "        '''\n",
    "\n",
    "        l = np.sqrt(np.diag(self.S))\n",
    "        Theta_u = np.eye(self.n_edges)\n",
    "        Theta_d = np.eye(self.n_edges)\n",
    "\n",
    "        return l, Theta_d, Theta_u\n",
    "\n",
    "    #---------------------------#\n",
    "    #       LAMBDA STEP\n",
    "    #---------------------------#\n",
    "\n",
    "    def _opt_lambda_build(\n",
    "            self\n",
    "    ):\n",
    "        \"\"\"\n",
    "        Costruisce il problema:\n",
    "            minimize   l.T @ Q @ l - 2 * sum(log(s))\n",
    "            subject to s > 0\n",
    "        \"\"\"\n",
    "        self.Q_param = cp.Parameter((self.n_edges, self.n_edges), PSD=True)\n",
    "        self.l = cp.Variable(self.n_edges, pos=True)  # impone s_i > 0\n",
    "\n",
    "        objective = cp.Minimize(cp.quad_form(self.l, self.Q_param) - 2 * cp.sum(cp.log(self.l)))\n",
    "        self.problem_lambda = cp.Problem(objective)\n",
    "    \n",
    "    def _opt_lambda_solve(\n",
    "            self,\n",
    "            Q_value,\n",
    "    ):\n",
    "        self.Q_param.value = Q_value\n",
    "        self.problem_lambda.solve(solver=cp.MOSEK, verbose = 0) \n",
    "\n",
    "        return self.l.value \n",
    "    \n",
    "    #---------------------------#\n",
    "    #        THETA STEP\n",
    "    #---------------------------#\n",
    "\n",
    "    def _opt_Theta_d_build(\n",
    "            self,\n",
    "    ):\n",
    "        \"\"\"\n",
    "        Costruisce il problema:\n",
    "            min_X trace(X @ H) - logdet(X)\n",
    "            s.t. X PSD\n",
    "                X_{ij} = 0  where T_{ij} = 0 (sparsità)\n",
    "                (X - I)(G - I) = 0\n",
    "        \"\"\"\n",
    "\n",
    "        self.H_param_d = cp.Parameter((self.n_edges, self.n_edges))\n",
    "        self.T_param_d = cp.Parameter((self.n_edges, self.n_edges))\n",
    "        self.G_param_d = cp.Parameter((self.n_edges, self.n_edges))\n",
    "\n",
    "        # Variabile simmetrica\n",
    "        self.X_d = cp.Variable((self.n_edges, self.n_edges), PSD=True)\n",
    "\n",
    "        # Obiettivo: trace(XH) - logdet(X)\n",
    "        #penalty = cp.norm1(cp.multiply(mask, X)) # vincolo topologia\n",
    "        objective = (\n",
    "            cp.Minimize(cp.trace(self.X_d @ self.H_param_d) - \n",
    "                        cp.log_det(self.X_d))\n",
    "        )\n",
    "\n",
    "        constraints = []\n",
    "\n",
    "        # 1. Vincolo PSD\n",
    "        constraints.append(self.X_d >> 0)\n",
    "\n",
    "        #2. Sparsità da T\n",
    "        for i in range(self.n_edges):\n",
    "            for j in range(self.n_edges):\n",
    "               constraints.append(self.X_d[i, j]*(1-self.T_param_d[i, j]) == 0)\n",
    "\n",
    "        # 3. (X - I)(G - I) = 0 ⇒ per ogni elemento (riga i, colonna j):\n",
    "        #     sum_k (X[i,k] - δ_ik)(G[k,j] - δ_kj) = 0\n",
    "        G_shift = self.G_param_d - np.eye(self.n_edges)\n",
    "\n",
    "        for i in range(self.n_edges):\n",
    "            for j in range(self.n_edges):\n",
    "                expr = sum((self.X_d[i, k] - (1.0 if i == k else 0.0)) * G_shift[k, j] for k in range(self.n_edges))\n",
    "                constraints.append(expr == 0)\n",
    "\n",
    "        self.problem_theta_d = cp.Problem(objective, constraints)\n",
    "\n",
    "    def _opt_Theta_u_build(\n",
    "            self,\n",
    "    ):\n",
    "        \"\"\"\n",
    "        Costruisce il problema:\n",
    "            min_X trace(X @ H) - logdet(X)\n",
    "            s.t. X PSD\n",
    "                X_{ij} = 0  where T_{ij} = 0 (sparsità)\n",
    "                (X - I)(G - I) = 0\n",
    "        \"\"\"\n",
    "\n",
    "        self.H_param_u = cp.Parameter((self.n_edges, self.n_edges))\n",
    "        self.T_param_u = cp.Parameter((self.n_edges, self.n_edges))\n",
    "        self.G_param_u = cp.Parameter((self.n_edges, self.n_edges))\n",
    "\n",
    "        # Variabile simmetrica\n",
    "        self.X_u = cp.Variable((self.n_edges, self.n_edges), PSD=True)\n",
    "\n",
    "        # Obiettivo: trace(XH) - logdet(X)\n",
    "        #penalty = cp.norm1(cp.multiply(mask, X)) # vincolo topologia\n",
    "        objective = (\n",
    "            cp.Minimize(cp.trace(self.X_u @ self.H_param_u) - \n",
    "                        cp.log_det(self.X_u))\n",
    "        )\n",
    "\n",
    "        constraints = []\n",
    "\n",
    "        # 1. Vincolo PSD\n",
    "        constraints.append(self.X_u >> 0)\n",
    "\n",
    "        #2. Sparsità da T\n",
    "        for i in range(self.n_edges):\n",
    "            for j in range(self.n_edges):\n",
    "               constraints.append(self.X_u[i, j]*(1-self.T_param_u[i, j]) == 0)\n",
    "\n",
    "        # 3. (X - I)(G - I) = 0 ⇒ per ogni elemento (riga i, colonna j):\n",
    "        #     sum_k (X[i,k] - δ_ik)(G[k,j] - δ_kj) = 0\n",
    "        G_shift = self.G_param_u - np.eye(self.n_edges)\n",
    "        for i in range(self.n_edges):\n",
    "            for j in range(self.n_edges):\n",
    "                expr = sum((self.X_u[i, k] - (1.0 if i == k else 0.0)) * G_shift[k, j] for k in range(self.n_edges))\n",
    "                constraints.append(expr == 0)\n",
    "\n",
    "        self.problem_theta_u = cp.Problem(objective, constraints)\n",
    "\n",
    "    def _opt_Theta_d_solve(\n",
    "            self,\n",
    "            H_value,\n",
    "            T_value,\n",
    "            G_value,\n",
    "            solver = cp.MOSEK,\n",
    "            verbose = 0\n",
    "    ):    \n",
    "        self.H_param_d.value = H_value\n",
    "        self.T_param_d.value = T_value\n",
    "        self.G_param_d.value = G_value\n",
    "\n",
    "        self.problem_theta_d.solve(solver = solver, verbose = verbose) \n",
    "\n",
    "        return self.X_d.value \n",
    "    \n",
    "    def _opt_Theta_u_solve(\n",
    "            self,\n",
    "            H_value,\n",
    "            T_value,\n",
    "            G_value,\n",
    "            solver = cp.MOSEK,\n",
    "            verbose = 0\n",
    "    ):    \n",
    "        self.H_param_u.value = H_value\n",
    "        self.T_param_u.value = T_value\n",
    "        self.G_param_u.value = G_value\n",
    "\n",
    "        self.problem_theta_u.solve(solver = solver, verbose = verbose) \n",
    "\n",
    "        return self.X_u.value \n",
    "    \n",
    "    #----------------------------------------------------------#\n",
    "    #        TWO-STEPS ALTERNATED OPTIMIZATION PIPELINE\n",
    "    #----------------------------------------------------------#\n",
    "\n",
    "    def _fit(\n",
    "            self\n",
    "    ):\n",
    "        # Initialization\n",
    "        l, Theta_d, Theta_u = self._initialization()\n",
    "\n",
    "        for _ in range(self.MAX_ITER):\n",
    "            print(\"Iteration: \"+str(_+1)+\"/\"+str(self.MAX_ITER))\n",
    "            Q = (Theta_d + Theta_u - np.eye(n_edges)) * S\n",
    "            #Q = (Q + Q.T)/2\n",
    "\n",
    "            l = np.copy(self._opt_lambda_solve(Q))\n",
    "            H = np.diag(l) @ S @ np.diag(l)\n",
    "            \n",
    "            Theta_u = np.copy(self._opt_Theta_u_solve(H, self.mask_u, Theta_d))\n",
    "            Theta_d = np.copy(self._opt_Theta_d_solve(H, self.mask_d, Theta_u))\n",
    "            clear_output(wait=True)\n",
    "        return Theta_d, Theta_u, l , Q"
   ]
  },
  {
   "cell_type": "code",
   "execution_count": 16,
   "metadata": {},
   "outputs": [],
   "source": [
    "infer=Inference(S,1,incidence_mats)"
   ]
  },
  {
   "cell_type": "code",
   "execution_count": 17,
   "metadata": {},
   "outputs": [
    {
     "name": "stdout",
     "output_type": "stream",
     "text": [
      "Iteration: 1/1\n"
     ]
    },
    {
     "name": "stderr",
     "output_type": "stream",
     "text": [
      "/Users/lorenzo.marinucci96/anaconda3/lib/python3.11/site-packages/cvxpy/reductions/solvers/solving_chain.py:226: UserWarning: You are solving a parameterized problem that is not DPP. Because the problem is not DPP, subsequent solves will not be faster than the first one. For more information, see the documentation on Discplined Parametrized Programming, at\n",
      "\thttps://www.cvxpy.org/tutorial/advanced/index.html#disciplined-parametrized-programming\n",
      "  warnings.warn(DPP_ERROR_MSG)\n",
      "/Users/lorenzo.marinucci96/anaconda3/lib/python3.11/site-packages/mosek/__init__.py:18617: UserWarning: Argument sub in putvarboundlist: Incorrect array format causing data to be copied\n",
      "  warnings.warn(\"Argument sub in putvarboundlist: Incorrect array format causing data to be copied\");\n",
      "/Users/lorenzo.marinucci96/anaconda3/lib/python3.11/site-packages/mosek/__init__.py:18925: UserWarning: Argument subj in putclist: Incorrect array format causing data to be copied\n",
      "  warnings.warn(\"Argument subj in putclist: Incorrect array format causing data to be copied\");\n",
      "/Users/lorenzo.marinucci96/anaconda3/lib/python3.11/site-packages/mosek/__init__.py:18349: UserWarning: Argument sub in putconboundlist: Incorrect array format causing data to be copied\n",
      "  warnings.warn(\"Argument sub in putconboundlist: Incorrect array format causing data to be copied\");\n"
     ]
    }
   ],
   "source": [
    "Theta_d, Theta_u, l , Q = infer._fit()"
   ]
  }
 ],
 "metadata": {
  "kernelspec": {
   "display_name": "base",
   "language": "python",
   "name": "python3"
  },
  "language_info": {
   "codemirror_mode": {
    "name": "ipython",
    "version": 3
   },
   "file_extension": ".py",
   "mimetype": "text/x-python",
   "name": "python",
   "nbconvert_exporter": "python",
   "pygments_lexer": "ipython3",
   "version": "3.11.9"
  }
 },
 "nbformat": 4,
 "nbformat_minor": 2
}
